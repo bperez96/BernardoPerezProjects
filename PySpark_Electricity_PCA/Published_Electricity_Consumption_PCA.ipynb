{
 "cells": [
  {
   "cell_type": "code",
   "execution_count": 1,
   "metadata": {
    "ExecuteTime": {
     "end_time": "2021-02-20T01:03:53.083388Z",
     "start_time": "2021-02-20T01:03:43.492565Z"
    }
   },
   "outputs": [],
   "source": [
    "from pyspark import SparkContext\n",
    "from pyspark.sql import SQLContext\n",
    "from pyspark.sql.functions import split, col\n",
    "import os\n",
    "import numpy as np\n",
    "from numpy import linalg as LA\n",
    "import matplotlib.pyplot as plt"
   ]
  },
  {
   "cell_type": "code",
   "execution_count": 2,
   "metadata": {
    "ExecuteTime": {
     "end_time": "2021-02-20T01:04:05.142469Z",
     "start_time": "2021-02-20T01:03:53.094703Z"
    }
   },
   "outputs": [],
   "source": [
    "sc = SparkContext(master=\"local[4]\")\n",
    "sqlContext = SQLContext(sc)"
   ]
  },
  {
   "cell_type": "code",
   "execution_count": 22,
   "metadata": {
    "ExecuteTime": {
     "end_time": "2021-02-20T01:17:53.054693Z",
     "start_time": "2021-02-20T01:17:52.270187Z"
    }
   },
   "outputs": [
    {
     "name": "stdout",
     "output_type": "stream",
     "text": [
      "File does not exist\r\n"
     ]
    }
   ],
   "source": [
    "! [ -e /Elec_Data/AEP_houly ] && echo \"File exist\" || echo \"File does not exist\""
   ]
  },
  {
   "cell_type": "code",
   "execution_count": 16,
   "metadata": {
    "ExecuteTime": {
     "end_time": "2021-02-20T01:12:49.732473Z",
     "start_time": "2021-02-20T01:12:47.426179Z"
    }
   },
   "outputs": [
    {
     "name": "stdout",
     "output_type": "stream",
     "text": [
      "/bin/sh: 1: Syntax error: end of file unexpected\n",
      " exists.\n"
     ]
    }
   ],
   "source": [
    "!FILE=Elec_Data/AEP_houly.csv\n",
    "!if test -f \"$FILE\"; then\n",
    "!    echo \"$FILE exists.\""
   ]
  },
  {
   "cell_type": "code",
   "execution_count": 17,
   "metadata": {
    "ExecuteTime": {
     "end_time": "2021-02-20T01:13:33.730382Z",
     "start_time": "2021-02-20T01:13:33.725378Z"
    }
   },
   "outputs": [],
   "source": [
    "#!wget 'https://www.kaggle.com/robikscube/hourly-energy-consumption/download/AEP_hourly.csv.zip' -P Elec_Data/\n",
    "#!unzip AEP_hourly.csv.zip -d Elec_Data\n",
    "#!rm -f Elec_Data/AEP_houly.csv.zip"
   ]
  },
  {
   "cell_type": "code",
   "execution_count": 3,
   "metadata": {
    "ExecuteTime": {
     "end_time": "2021-02-20T01:04:19.439527Z",
     "start_time": "2021-02-20T01:04:10.363799Z"
    }
   },
   "outputs": [
    {
     "name": "stdout",
     "output_type": "stream",
     "text": [
      "Schema for original dataframe formed from data file:\n",
      "root\n",
      " |-- Datetime: string (nullable = true)\n",
      " |-- AEP_MW: string (nullable = true)\n",
      "\n",
      "Fixed schema for original dataframe:\n",
      "root\n",
      " |-- Datetime: string (nullable = true)\n",
      " |-- AEP_MW: double (nullable = true)\n",
      "\n",
      "+-------------------+-------+\n",
      "|           Datetime| AEP_MW|\n",
      "+-------------------+-------+\n",
      "|2004-12-31 01:00:00|13478.0|\n",
      "|2004-12-31 02:00:00|12865.0|\n",
      "|2004-12-31 03:00:00|12577.0|\n",
      "|2004-12-31 04:00:00|12517.0|\n",
      "|2004-12-31 05:00:00|12670.0|\n",
      "|2004-12-31 06:00:00|13038.0|\n",
      "|2004-12-31 07:00:00|13692.0|\n",
      "|2004-12-31 08:00:00|14297.0|\n",
      "|2004-12-31 09:00:00|14719.0|\n",
      "|2004-12-31 10:00:00|14941.0|\n",
      "|2004-12-31 11:00:00|15184.0|\n",
      "|2004-12-31 12:00:00|15009.0|\n",
      "|2004-12-31 13:00:00|14808.0|\n",
      "|2004-12-31 14:00:00|14522.0|\n",
      "|2004-12-31 15:00:00|14349.0|\n",
      "|2004-12-31 16:00:00|14107.0|\n",
      "|2004-12-31 17:00:00|14410.0|\n",
      "|2004-12-31 18:00:00|15174.0|\n",
      "|2004-12-31 19:00:00|15261.0|\n",
      "|2004-12-31 20:00:00|14774.0|\n",
      "+-------------------+-------+\n",
      "only showing top 20 rows\n",
      "\n"
     ]
    }
   ],
   "source": [
    "#load file data into sqlcontext dataframe\n",
    "#fix schema for MW-per hr field to double\n",
    "\n",
    "df_orig_1 = sqlContext.read.format(\"csv\").option(\"header\", \"true\").load(\"Elec_Data/AEP_hourly.csv\")\n",
    "print(\"Schema for original dataframe formed from data file:\")\n",
    "df_orig_1.printSchema()\n",
    "df_orig_2 = df_orig_1.withColumn('AEP_MW', df_orig_1['AEP_MW'].cast('double'))\n",
    "print(\"Fixed schema for original dataframe:\")\n",
    "df_orig_2.printSchema()\n",
    "df_orig_2.show()"
   ]
  },
  {
   "cell_type": "code",
   "execution_count": null,
   "metadata": {},
   "outputs": [],
   "source": []
  },
  {
   "cell_type": "code",
   "execution_count": 5,
   "metadata": {
    "ExecuteTime": {
     "end_time": "2021-02-20T01:04:42.167847Z",
     "start_time": "2021-02-20T01:04:41.275613Z"
    }
   },
   "outputs": [],
   "source": [
    "#split data frame to have date elements in separate columns\n",
    "\n",
    "split_col = split(df_orig_2['Datetime'], '-')\n",
    "df_orig_2 = df_orig_2.withColumn('year', split_col.getItem(0))\n",
    "df_orig_2 = df_orig_2.withColumn('month', split_col.getItem(1))\n",
    "df_orig_2 = df_orig_2.withColumn('daytime', split_col.getItem(2))\n",
    "split_last_col = split(df_orig_2['daytime'], ' ')\n",
    "df_orig_2 = df_orig_2.withColumn('day', split_last_col.getItem(0))\n",
    "df_orig_2 = df_orig_2.withColumn('hour', split_last_col.getItem(1)[0:2])\n",
    "df_orig_2 = df_orig_2.drop(\"Datetime\")\n",
    "df_orig_2 = df_orig_2.drop(\"daytime\")"
   ]
  },
  {
   "cell_type": "code",
   "execution_count": 6,
   "metadata": {
    "ExecuteTime": {
     "end_time": "2021-02-20T01:04:45.303467Z",
     "start_time": "2021-02-20T01:04:44.190003Z"
    }
   },
   "outputs": [
    {
     "name": "stdout",
     "output_type": "stream",
     "text": [
      "+-------+----+-----+---+----+\n",
      "| AEP_MW|year|month|day|hour|\n",
      "+-------+----+-----+---+----+\n",
      "|13478.0|2004|   12| 31|  01|\n",
      "|12865.0|2004|   12| 31|  02|\n",
      "|12577.0|2004|   12| 31|  03|\n",
      "|12517.0|2004|   12| 31|  04|\n",
      "|12670.0|2004|   12| 31|  05|\n",
      "|13038.0|2004|   12| 31|  06|\n",
      "|13692.0|2004|   12| 31|  07|\n",
      "|14297.0|2004|   12| 31|  08|\n",
      "|14719.0|2004|   12| 31|  09|\n",
      "|14941.0|2004|   12| 31|  10|\n",
      "|15184.0|2004|   12| 31|  11|\n",
      "|15009.0|2004|   12| 31|  12|\n",
      "|14808.0|2004|   12| 31|  13|\n",
      "|14522.0|2004|   12| 31|  14|\n",
      "|14349.0|2004|   12| 31|  15|\n",
      "|14107.0|2004|   12| 31|  16|\n",
      "|14410.0|2004|   12| 31|  17|\n",
      "|15174.0|2004|   12| 31|  18|\n",
      "|15261.0|2004|   12| 31|  19|\n",
      "|14774.0|2004|   12| 31|  20|\n",
      "+-------+----+-----+---+----+\n",
      "only showing top 20 rows\n",
      "\n"
     ]
    },
    {
     "data": {
      "text/plain": [
       "121273"
      ]
     },
     "execution_count": 6,
     "metadata": {},
     "output_type": "execute_result"
    }
   ],
   "source": [
    "df_orig_2.show()\n",
    "df_orig_2.count()"
   ]
  },
  {
   "cell_type": "code",
   "execution_count": 7,
   "metadata": {
    "ExecuteTime": {
     "end_time": "2021-02-20T01:04:49.100496Z",
     "start_time": "2021-02-20T01:04:47.214102Z"
    }
   },
   "outputs": [
    {
     "name": "stdout",
     "output_type": "stream",
     "text": [
      "+----+-----+\n",
      "|year|count|\n",
      "+----+-----+\n",
      "|2004| 2206|\n",
      "|2005| 8758|\n",
      "|2006| 8758|\n",
      "|2007| 8758|\n",
      "|2008| 8782|\n",
      "|2009| 8758|\n",
      "|2010| 8757|\n",
      "|2011| 8758|\n",
      "|2012| 8781|\n",
      "|2013| 8758|\n",
      "|2014| 8759|\n",
      "|2015| 8760|\n",
      "|2016| 8784|\n",
      "|2017| 8760|\n",
      "|2018| 5136|\n",
      "+----+-----+\n",
      "\n"
     ]
    }
   ],
   "source": [
    "sqlContext.registerDataFrameAsTable(df_orig_2,'elec_data')\n",
    "query=\"\"\"\n",
    "SELECT year ,COUNT(AEP_MW) AS count \n",
    "FROM elec_data \n",
    "GROUP BY year \n",
    "ORDER BY year\n",
    "\"\"\"\n",
    "sqlContext.sql(query).show()"
   ]
  },
  {
   "cell_type": "code",
   "execution_count": 8,
   "metadata": {
    "ExecuteTime": {
     "end_time": "2021-02-20T01:04:52.376088Z",
     "start_time": "2021-02-20T01:04:49.640335Z"
    }
   },
   "outputs": [
    {
     "name": "stdout",
     "output_type": "stream",
     "text": [
      "0\n"
     ]
    }
   ],
   "source": [
    "query=\"\"\"\n",
    "SELECT  AEP_MW, day, month, year, hour \n",
    "FROM elec_data\n",
    " WHERE\n",
    "(year>=2005 and year<=2017)\n",
    "\"\"\"\n",
    "\n",
    "df_test_nan=sqlContext.sql(query)\n",
    "rdd_test_nan=df_test_nan.rdd.map(lambda row: np.float(row['AEP_MW']))\n",
    "UnDef=rdd_test_nan.map(lambda row:np.int(np.isnan(row))).sum()\n",
    "print(UnDef)"
   ]
  },
  {
   "cell_type": "code",
   "execution_count": 9,
   "metadata": {
    "ExecuteTime": {
     "end_time": "2021-02-20T01:04:58.247042Z",
     "start_time": "2021-02-20T01:04:56.383387Z"
    }
   },
   "outputs": [
    {
     "name": "stdout",
     "output_type": "stream",
     "text": [
      "+-----+---+----+----------+\n",
      "|month|day|year|count_meas|\n",
      "+-----+---+----+----------+\n",
      "|   11| 04|2012|        23|\n",
      "|   03| 14|2010|        23|\n",
      "|   03| 13|2016|        23|\n",
      "|   04| 03|2005|        23|\n",
      "|   03| 11|2014|        23|\n",
      "|   12| 10|2010|        23|\n",
      "|   11| 02|2008|        23|\n",
      "|   11| 06|2011|        23|\n",
      "|   03| 08|2015|        23|\n",
      "|   10| 29|2006|        23|\n",
      "|   03| 10|2013|        23|\n",
      "|   11| 07|2010|        23|\n",
      "|   11| 01|2009|        23|\n",
      "|   03| 09|2008|        23|\n",
      "|   03| 11|2012|        23|\n",
      "|   03| 11|2007|        23|\n",
      "|   12| 06|2012|        23|\n",
      "|   11| 03|2013|        23|\n",
      "|   03| 12|2017|        23|\n",
      "|   03| 09|2014|        23|\n",
      "|   03| 08|2009|        23|\n",
      "|   03| 13|2011|        23|\n",
      "|   04| 02|2006|        23|\n",
      "|   11| 04|2007|        23|\n",
      "|   10| 30|2005|        23|\n",
      "|   01| 11|2010|        24|\n",
      "+-----+---+----+----------+\n",
      "only showing top 26 rows\n",
      "\n"
     ]
    }
   ],
   "source": [
    "query=\"\"\"\n",
    "SELECT  month, day , year, count(AEP_MW) as count_meas\n",
    "FROM elec_data\n",
    "WHERE\n",
    "year>=2005 and year<=2017\n",
    "GROUP BY month, day, year\n",
    "ORDER BY count_meas ASC\n",
    "\n",
    "\"\"\"\n",
    "df_mix_days=sqlContext.sql(query)\n",
    "df_mix_days.show(26)\n",
    "sqlContext.registerDataFrameAsTable(df_mix_days,'mix_days_data')"
   ]
  },
  {
   "cell_type": "code",
   "execution_count": 10,
   "metadata": {
    "ExecuteTime": {
     "end_time": "2021-02-20T01:05:05.904311Z",
     "start_time": "2021-02-20T01:04:59.001203Z"
    }
   },
   "outputs": [
    {
     "name": "stdout",
     "output_type": "stream",
     "text": [
      "+-----+---+----+-------+----+----------+\n",
      "|month|day|year| AEP_MW|hour|count_meas|\n",
      "+-----+---+----+-------+----+----------+\n",
      "|   01| 01|2005|12892.0|  00|        24|\n",
      "|   12| 31|2005|14254.0|  01|        24|\n",
      "|   12| 31|2005|13761.0|  02|        24|\n",
      "|   12| 31|2005|13445.0|  03|        24|\n",
      "|   12| 31|2005|13306.0|  04|        24|\n",
      "|   12| 31|2005|13219.0|  05|        24|\n",
      "|   12| 31|2005|13433.0|  06|        24|\n",
      "|   12| 31|2005|13740.0|  07|        24|\n",
      "|   12| 31|2005|14354.0|  08|        24|\n",
      "|   12| 31|2005|14772.0|  09|        24|\n",
      "|   12| 31|2005|15354.0|  10|        24|\n",
      "|   12| 31|2005|15688.0|  11|        24|\n",
      "|   12| 31|2005|15650.0|  12|        24|\n",
      "|   12| 31|2005|15489.0|  13|        24|\n",
      "|   12| 31|2005|15257.0|  14|        24|\n",
      "|   12| 31|2005|15239.0|  15|        24|\n",
      "|   12| 31|2005|15216.0|  16|        24|\n",
      "|   12| 31|2005|15469.0|  17|        24|\n",
      "|   12| 31|2005|16400.0|  18|        24|\n",
      "|   12| 31|2005|16462.0|  19|        24|\n",
      "+-----+---+----+-------+----+----------+\n",
      "only showing top 20 rows\n",
      "\n"
     ]
    },
    {
     "data": {
      "text/plain": [
       "113931"
      ]
     },
     "execution_count": 10,
     "metadata": {},
     "output_type": "execute_result"
    }
   ],
   "source": [
    "df_hourly_pre=df_orig_2.join(df_mix_days, on=['month', 'day','year'], how='inner')\n",
    "df_hourly_pre.show()\n",
    "sqlContext.registerDataFrameAsTable(df_hourly_pre,'hourly_data_daily_count')\n",
    "df_hourly_pre.count()"
   ]
  },
  {
   "cell_type": "code",
   "execution_count": 13,
   "metadata": {
    "ExecuteTime": {
     "end_time": "2021-02-20T01:05:20.996223Z",
     "start_time": "2021-02-20T01:05:20.930627Z"
    }
   },
   "outputs": [],
   "source": [
    "query=\"\"\"\n",
    "SELECT  * \n",
    "FROM hourly_data_daily_count\n",
    "WHERE count_meas==24\n",
    "ORDER BY year, month, day, hour\n",
    "\"\"\"\n",
    "\n",
    "df_full_data_hourly=sqlContext.sql(query)\n",
    "sqlContext.registerDataFrameAsTable(df_full_data_hourly,'used_data_hourly')\n"
   ]
  },
  {
   "cell_type": "code",
   "execution_count": 14,
   "metadata": {
    "ExecuteTime": {
     "end_time": "2021-02-20T01:05:39.535370Z",
     "start_time": "2021-02-20T01:05:24.903161Z"
    }
   },
   "outputs": [
    {
     "name": "stdout",
     "output_type": "stream",
     "text": [
      "+------------------+----+\n",
      "|     avg_MW_per_hr|hour|\n",
      "+------------------+----+\n",
      "| 14671.88874761602|  00|\n",
      "| 13904.05785123967|  01|\n",
      "|13439.855054036872|  02|\n",
      "|13188.196863742318|  03|\n",
      "|  13097.7819453274|  04|\n",
      "|13242.179275270184|  05|\n",
      "|13806.066539521085|  06|\n",
      "|14792.432930705658|  07|\n",
      "|15490.261284170376|  08|\n",
      "|15836.711591438865|  09|\n",
      "|16103.594193685103|  10|\n",
      "|16333.905700360247|  11|\n",
      "|16432.198770926043|  12|\n",
      "| 16516.83619410892|  13|\n",
      "| 16578.50455605001|  14|\n",
      "|16540.633396906123|  15|\n",
      "|16493.837253655434|  16|\n",
      "|16591.548421275693|  17|\n",
      "|16806.708200890018|  18|\n",
      "|16906.230557321465|  19|\n",
      "|16854.240517058697|  20|\n",
      "| 16797.99385463022|  21|\n",
      "| 16504.56622165713|  22|\n",
      "|15662.884085611358|  23|\n",
      "+------------------+----+\n",
      "\n"
     ]
    }
   ],
   "source": [
    "query=\"\"\"\n",
    "SELECT  AVG(AEP_MW) AS avg_MW_per_hr , hour \n",
    "FROM used_data_hourly\n",
    "GROUP BY hour\n",
    "ORDER BY hour\n",
    "\"\"\"\n",
    "\n",
    "df_full_days=sqlContext.sql(query)\n",
    "df_full_days.show(24)\n",
    "rdd_hour_avg_pre=df_full_days.rdd.map(lambda row: np.float(row['avg_MW_per_hr']))\n",
    "hour_avg_array=np.array(rdd_hour_avg_pre.collect())\n",
    "\n",
    "#rdd_hour_avg = np.concatenate(np.array(rdd_hour_avg_pre).ravel().tolist()"
   ]
  },
  {
   "cell_type": "code",
   "execution_count": 12,
   "metadata": {
    "ExecuteTime": {
     "end_time": "2021-02-20T01:05:09.948785Z",
     "start_time": "2021-02-20T01:05:09.858645Z"
    }
   },
   "outputs": [
    {
     "ename": "AnalysisException",
     "evalue": "'Table or view not found: used_data_hourly; line 3 pos 5'",
     "output_type": "error",
     "traceback": [
      "\u001b[0;31m---------------------------------------------------------------------------\u001b[0m",
      "\u001b[0;31mPy4JJavaError\u001b[0m                             Traceback (most recent call last)",
      "\u001b[0;32m/usr/local/spark/python/pyspark/sql/utils.py\u001b[0m in \u001b[0;36mdeco\u001b[0;34m(*a, **kw)\u001b[0m\n\u001b[1;32m     62\u001b[0m         \u001b[0;32mtry\u001b[0m\u001b[0;34m:\u001b[0m\u001b[0;34m\u001b[0m\u001b[0m\n\u001b[0;32m---> 63\u001b[0;31m             \u001b[0;32mreturn\u001b[0m \u001b[0mf\u001b[0m\u001b[0;34m(\u001b[0m\u001b[0;34m*\u001b[0m\u001b[0ma\u001b[0m\u001b[0;34m,\u001b[0m \u001b[0;34m**\u001b[0m\u001b[0mkw\u001b[0m\u001b[0;34m)\u001b[0m\u001b[0;34m\u001b[0m\u001b[0m\n\u001b[0m\u001b[1;32m     64\u001b[0m         \u001b[0;32mexcept\u001b[0m \u001b[0mpy4j\u001b[0m\u001b[0;34m.\u001b[0m\u001b[0mprotocol\u001b[0m\u001b[0;34m.\u001b[0m\u001b[0mPy4JJavaError\u001b[0m \u001b[0;32mas\u001b[0m \u001b[0me\u001b[0m\u001b[0;34m:\u001b[0m\u001b[0;34m\u001b[0m\u001b[0m\n",
      "\u001b[0;32m/usr/local/spark/python/lib/py4j-0.10.6-src.zip/py4j/protocol.py\u001b[0m in \u001b[0;36mget_return_value\u001b[0;34m(answer, gateway_client, target_id, name)\u001b[0m\n\u001b[1;32m    319\u001b[0m                     \u001b[0;34m\"An error occurred while calling {0}{1}{2}.\\n\"\u001b[0m\u001b[0;34m.\u001b[0m\u001b[0;34m\u001b[0m\u001b[0m\n\u001b[0;32m--> 320\u001b[0;31m                     format(target_id, \".\", name), value)\n\u001b[0m\u001b[1;32m    321\u001b[0m             \u001b[0;32melse\u001b[0m\u001b[0;34m:\u001b[0m\u001b[0;34m\u001b[0m\u001b[0m\n",
      "\u001b[0;31mPy4JJavaError\u001b[0m: An error occurred while calling o21.sql.\n: org.apache.spark.sql.AnalysisException: Table or view not found: used_data_hourly; line 3 pos 5\n\tat org.apache.spark.sql.catalyst.analysis.package$AnalysisErrorAt.failAnalysis(package.scala:42)\n\tat org.apache.spark.sql.catalyst.analysis.Analyzer$ResolveRelations$.org$apache$spark$sql$catalyst$analysis$Analyzer$ResolveRelations$$lookupTableFromCatalog(Analyzer.scala:663)\n\tat org.apache.spark.sql.catalyst.analysis.Analyzer$ResolveRelations$.resolveRelation(Analyzer.scala:615)\n\tat org.apache.spark.sql.catalyst.analysis.Analyzer$ResolveRelations$$anonfun$apply$8.applyOrElse(Analyzer.scala:645)\n\tat org.apache.spark.sql.catalyst.analysis.Analyzer$ResolveRelations$$anonfun$apply$8.applyOrElse(Analyzer.scala:638)\n\tat org.apache.spark.sql.catalyst.trees.TreeNode$$anonfun$transformUp$1.apply(TreeNode.scala:289)\n\tat org.apache.spark.sql.catalyst.trees.TreeNode$$anonfun$transformUp$1.apply(TreeNode.scala:289)\n\tat org.apache.spark.sql.catalyst.trees.CurrentOrigin$.withOrigin(TreeNode.scala:70)\n\tat org.apache.spark.sql.catalyst.trees.TreeNode.transformUp(TreeNode.scala:288)\n\tat org.apache.spark.sql.catalyst.trees.TreeNode$$anonfun$3.apply(TreeNode.scala:286)\n\tat org.apache.spark.sql.catalyst.trees.TreeNode$$anonfun$3.apply(TreeNode.scala:286)\n\tat org.apache.spark.sql.catalyst.trees.TreeNode$$anonfun$4.apply(TreeNode.scala:306)\n\tat org.apache.spark.sql.catalyst.trees.TreeNode.mapProductIterator(TreeNode.scala:187)\n\tat org.apache.spark.sql.catalyst.trees.TreeNode.mapChildren(TreeNode.scala:304)\n\tat org.apache.spark.sql.catalyst.trees.TreeNode.transformUp(TreeNode.scala:286)\n\tat org.apache.spark.sql.catalyst.trees.TreeNode$$anonfun$3.apply(TreeNode.scala:286)\n\tat org.apache.spark.sql.catalyst.trees.TreeNode$$anonfun$3.apply(TreeNode.scala:286)\n\tat org.apache.spark.sql.catalyst.trees.TreeNode$$anonfun$4.apply(TreeNode.scala:306)\n\tat org.apache.spark.sql.catalyst.trees.TreeNode.mapProductIterator(TreeNode.scala:187)\n\tat org.apache.spark.sql.catalyst.trees.TreeNode.mapChildren(TreeNode.scala:304)\n\tat org.apache.spark.sql.catalyst.trees.TreeNode.transformUp(TreeNode.scala:286)\n\tat org.apache.spark.sql.catalyst.analysis.Analyzer$ResolveRelations$.apply(Analyzer.scala:638)\n\tat org.apache.spark.sql.catalyst.analysis.Analyzer$ResolveRelations$.apply(Analyzer.scala:584)\n\tat org.apache.spark.sql.catalyst.rules.RuleExecutor$$anonfun$execute$1$$anonfun$apply$1.apply(RuleExecutor.scala:87)\n\tat org.apache.spark.sql.catalyst.rules.RuleExecutor$$anonfun$execute$1$$anonfun$apply$1.apply(RuleExecutor.scala:84)\n\tat scala.collection.LinearSeqOptimized$class.foldLeft(LinearSeqOptimized.scala:124)\n\tat scala.collection.immutable.List.foldLeft(List.scala:84)\n\tat org.apache.spark.sql.catalyst.rules.RuleExecutor$$anonfun$execute$1.apply(RuleExecutor.scala:84)\n\tat org.apache.spark.sql.catalyst.rules.RuleExecutor$$anonfun$execute$1.apply(RuleExecutor.scala:76)\n\tat scala.collection.immutable.List.foreach(List.scala:381)\n\tat org.apache.spark.sql.catalyst.rules.RuleExecutor.execute(RuleExecutor.scala:76)\n\tat org.apache.spark.sql.catalyst.analysis.Analyzer.org$apache$spark$sql$catalyst$analysis$Analyzer$$executeSameContext(Analyzer.scala:123)\n\tat org.apache.spark.sql.catalyst.analysis.Analyzer.execute(Analyzer.scala:117)\n\tat org.apache.spark.sql.catalyst.analysis.Analyzer.executeAndCheck(Analyzer.scala:102)\n\tat org.apache.spark.sql.execution.QueryExecution.analyzed$lzycompute(QueryExecution.scala:57)\n\tat org.apache.spark.sql.execution.QueryExecution.analyzed(QueryExecution.scala:55)\n\tat org.apache.spark.sql.execution.QueryExecution.assertAnalyzed(QueryExecution.scala:47)\n\tat org.apache.spark.sql.Dataset$.ofRows(Dataset.scala:74)\n\tat org.apache.spark.sql.SparkSession.sql(SparkSession.scala:638)\n\tat sun.reflect.NativeMethodAccessorImpl.invoke0(Native Method)\n\tat sun.reflect.NativeMethodAccessorImpl.invoke(NativeMethodAccessorImpl.java:62)\n\tat sun.reflect.DelegatingMethodAccessorImpl.invoke(DelegatingMethodAccessorImpl.java:43)\n\tat java.lang.reflect.Method.invoke(Method.java:498)\n\tat py4j.reflection.MethodInvoker.invoke(MethodInvoker.java:244)\n\tat py4j.reflection.ReflectionEngine.invoke(ReflectionEngine.java:357)\n\tat py4j.Gateway.invoke(Gateway.java:282)\n\tat py4j.commands.AbstractCommand.invokeMethod(AbstractCommand.java:132)\n\tat py4j.commands.CallCommand.execute(CallCommand.java:79)\n\tat py4j.GatewayConnection.run(GatewayConnection.java:214)\n\tat java.lang.Thread.run(Thread.java:748)\n",
      "\nDuring handling of the above exception, another exception occurred:\n",
      "\u001b[0;31mAnalysisException\u001b[0m                         Traceback (most recent call last)",
      "\u001b[0;32m<ipython-input-12-037cdaa1750a>\u001b[0m in \u001b[0;36m<module>\u001b[0;34m()\u001b[0m\n\u001b[1;32m      4\u001b[0m \u001b[0mORDER\u001b[0m \u001b[0mBY\u001b[0m \u001b[0myear\u001b[0m\u001b[0;34m,\u001b[0m \u001b[0mmonth\u001b[0m\u001b[0;34m,\u001b[0m \u001b[0mday\u001b[0m\u001b[0;34m,\u001b[0m \u001b[0mhour\u001b[0m\u001b[0;34m\u001b[0m\u001b[0m\n\u001b[1;32m      5\u001b[0m \"\"\"\n\u001b[0;32m----> 6\u001b[0;31m \u001b[0mdf_pre_format_hours\u001b[0m\u001b[0;34m=\u001b[0m\u001b[0msqlContext\u001b[0m\u001b[0;34m.\u001b[0m\u001b[0msql\u001b[0m\u001b[0;34m(\u001b[0m\u001b[0mquery\u001b[0m\u001b[0;34m)\u001b[0m\u001b[0;34m\u001b[0m\u001b[0m\n\u001b[0m\u001b[1;32m      7\u001b[0m \u001b[0mdf_pre_format_hours\u001b[0m\u001b[0;34m.\u001b[0m\u001b[0mshow\u001b[0m\u001b[0;34m(\u001b[0m\u001b[0;36m48\u001b[0m\u001b[0;34m)\u001b[0m\u001b[0;34m\u001b[0m\u001b[0m\n\u001b[1;32m      8\u001b[0m \u001b[0msqlContext\u001b[0m\u001b[0;34m.\u001b[0m\u001b[0mregisterDataFrameAsTable\u001b[0m\u001b[0;34m(\u001b[0m\u001b[0mdf_pre_format_hours\u001b[0m\u001b[0;34m,\u001b[0m\u001b[0;34m'elec_data_ordered_hrs'\u001b[0m\u001b[0;34m)\u001b[0m\u001b[0;34m\u001b[0m\u001b[0m\n",
      "\u001b[0;32m/usr/local/spark/python/pyspark/sql/context.py\u001b[0m in \u001b[0;36msql\u001b[0;34m(self, sqlQuery)\u001b[0m\n\u001b[1;32m    351\u001b[0m         \u001b[0;34m[\u001b[0m\u001b[0mRow\u001b[0m\u001b[0;34m(\u001b[0m\u001b[0mf1\u001b[0m\u001b[0;34m=\u001b[0m\u001b[0;36m1\u001b[0m\u001b[0;34m,\u001b[0m \u001b[0mf2\u001b[0m\u001b[0;34m=\u001b[0m\u001b[0;34mu'row1'\u001b[0m\u001b[0;34m)\u001b[0m\u001b[0;34m,\u001b[0m \u001b[0mRow\u001b[0m\u001b[0;34m(\u001b[0m\u001b[0mf1\u001b[0m\u001b[0;34m=\u001b[0m\u001b[0;36m2\u001b[0m\u001b[0;34m,\u001b[0m \u001b[0mf2\u001b[0m\u001b[0;34m=\u001b[0m\u001b[0;34mu'row2'\u001b[0m\u001b[0;34m)\u001b[0m\u001b[0;34m,\u001b[0m \u001b[0mRow\u001b[0m\u001b[0;34m(\u001b[0m\u001b[0mf1\u001b[0m\u001b[0;34m=\u001b[0m\u001b[0;36m3\u001b[0m\u001b[0;34m,\u001b[0m \u001b[0mf2\u001b[0m\u001b[0;34m=\u001b[0m\u001b[0;34mu'row3'\u001b[0m\u001b[0;34m)\u001b[0m\u001b[0;34m]\u001b[0m\u001b[0;34m\u001b[0m\u001b[0m\n\u001b[1;32m    352\u001b[0m         \"\"\"\n\u001b[0;32m--> 353\u001b[0;31m         \u001b[0;32mreturn\u001b[0m \u001b[0mself\u001b[0m\u001b[0;34m.\u001b[0m\u001b[0msparkSession\u001b[0m\u001b[0;34m.\u001b[0m\u001b[0msql\u001b[0m\u001b[0;34m(\u001b[0m\u001b[0msqlQuery\u001b[0m\u001b[0;34m)\u001b[0m\u001b[0;34m\u001b[0m\u001b[0m\n\u001b[0m\u001b[1;32m    354\u001b[0m \u001b[0;34m\u001b[0m\u001b[0m\n\u001b[1;32m    355\u001b[0m     \u001b[0;34m@\u001b[0m\u001b[0msince\u001b[0m\u001b[0;34m(\u001b[0m\u001b[0;36m1.0\u001b[0m\u001b[0;34m)\u001b[0m\u001b[0;34m\u001b[0m\u001b[0m\n",
      "\u001b[0;32m/usr/local/spark/python/pyspark/sql/session.py\u001b[0m in \u001b[0;36msql\u001b[0;34m(self, sqlQuery)\u001b[0m\n\u001b[1;32m    706\u001b[0m         \u001b[0;34m[\u001b[0m\u001b[0mRow\u001b[0m\u001b[0;34m(\u001b[0m\u001b[0mf1\u001b[0m\u001b[0;34m=\u001b[0m\u001b[0;36m1\u001b[0m\u001b[0;34m,\u001b[0m \u001b[0mf2\u001b[0m\u001b[0;34m=\u001b[0m\u001b[0;34mu'row1'\u001b[0m\u001b[0;34m)\u001b[0m\u001b[0;34m,\u001b[0m \u001b[0mRow\u001b[0m\u001b[0;34m(\u001b[0m\u001b[0mf1\u001b[0m\u001b[0;34m=\u001b[0m\u001b[0;36m2\u001b[0m\u001b[0;34m,\u001b[0m \u001b[0mf2\u001b[0m\u001b[0;34m=\u001b[0m\u001b[0;34mu'row2'\u001b[0m\u001b[0;34m)\u001b[0m\u001b[0;34m,\u001b[0m \u001b[0mRow\u001b[0m\u001b[0;34m(\u001b[0m\u001b[0mf1\u001b[0m\u001b[0;34m=\u001b[0m\u001b[0;36m3\u001b[0m\u001b[0;34m,\u001b[0m \u001b[0mf2\u001b[0m\u001b[0;34m=\u001b[0m\u001b[0;34mu'row3'\u001b[0m\u001b[0;34m)\u001b[0m\u001b[0;34m]\u001b[0m\u001b[0;34m\u001b[0m\u001b[0m\n\u001b[1;32m    707\u001b[0m         \"\"\"\n\u001b[0;32m--> 708\u001b[0;31m         \u001b[0;32mreturn\u001b[0m \u001b[0mDataFrame\u001b[0m\u001b[0;34m(\u001b[0m\u001b[0mself\u001b[0m\u001b[0;34m.\u001b[0m\u001b[0m_jsparkSession\u001b[0m\u001b[0;34m.\u001b[0m\u001b[0msql\u001b[0m\u001b[0;34m(\u001b[0m\u001b[0msqlQuery\u001b[0m\u001b[0;34m)\u001b[0m\u001b[0;34m,\u001b[0m \u001b[0mself\u001b[0m\u001b[0;34m.\u001b[0m\u001b[0m_wrapped\u001b[0m\u001b[0;34m)\u001b[0m\u001b[0;34m\u001b[0m\u001b[0m\n\u001b[0m\u001b[1;32m    709\u001b[0m \u001b[0;34m\u001b[0m\u001b[0m\n\u001b[1;32m    710\u001b[0m     \u001b[0;34m@\u001b[0m\u001b[0msince\u001b[0m\u001b[0;34m(\u001b[0m\u001b[0;36m2.0\u001b[0m\u001b[0;34m)\u001b[0m\u001b[0;34m\u001b[0m\u001b[0m\n",
      "\u001b[0;32m/usr/local/spark/python/lib/py4j-0.10.6-src.zip/py4j/java_gateway.py\u001b[0m in \u001b[0;36m__call__\u001b[0;34m(self, *args)\u001b[0m\n\u001b[1;32m   1158\u001b[0m         \u001b[0manswer\u001b[0m \u001b[0;34m=\u001b[0m \u001b[0mself\u001b[0m\u001b[0;34m.\u001b[0m\u001b[0mgateway_client\u001b[0m\u001b[0;34m.\u001b[0m\u001b[0msend_command\u001b[0m\u001b[0;34m(\u001b[0m\u001b[0mcommand\u001b[0m\u001b[0;34m)\u001b[0m\u001b[0;34m\u001b[0m\u001b[0m\n\u001b[1;32m   1159\u001b[0m         return_value = get_return_value(\n\u001b[0;32m-> 1160\u001b[0;31m             answer, self.gateway_client, self.target_id, self.name)\n\u001b[0m\u001b[1;32m   1161\u001b[0m \u001b[0;34m\u001b[0m\u001b[0m\n\u001b[1;32m   1162\u001b[0m         \u001b[0;32mfor\u001b[0m \u001b[0mtemp_arg\u001b[0m \u001b[0;32min\u001b[0m \u001b[0mtemp_args\u001b[0m\u001b[0;34m:\u001b[0m\u001b[0;34m\u001b[0m\u001b[0m\n",
      "\u001b[0;32m/usr/local/spark/python/pyspark/sql/utils.py\u001b[0m in \u001b[0;36mdeco\u001b[0;34m(*a, **kw)\u001b[0m\n\u001b[1;32m     67\u001b[0m                                              e.java_exception.getStackTrace()))\n\u001b[1;32m     68\u001b[0m             \u001b[0;32mif\u001b[0m \u001b[0ms\u001b[0m\u001b[0;34m.\u001b[0m\u001b[0mstartswith\u001b[0m\u001b[0;34m(\u001b[0m\u001b[0;34m'org.apache.spark.sql.AnalysisException: '\u001b[0m\u001b[0;34m)\u001b[0m\u001b[0;34m:\u001b[0m\u001b[0;34m\u001b[0m\u001b[0m\n\u001b[0;32m---> 69\u001b[0;31m                 \u001b[0;32mraise\u001b[0m \u001b[0mAnalysisException\u001b[0m\u001b[0;34m(\u001b[0m\u001b[0ms\u001b[0m\u001b[0;34m.\u001b[0m\u001b[0msplit\u001b[0m\u001b[0;34m(\u001b[0m\u001b[0;34m': '\u001b[0m\u001b[0;34m,\u001b[0m \u001b[0;36m1\u001b[0m\u001b[0;34m)\u001b[0m\u001b[0;34m[\u001b[0m\u001b[0;36m1\u001b[0m\u001b[0;34m]\u001b[0m\u001b[0;34m,\u001b[0m \u001b[0mstackTrace\u001b[0m\u001b[0;34m)\u001b[0m\u001b[0;34m\u001b[0m\u001b[0m\n\u001b[0m\u001b[1;32m     70\u001b[0m             \u001b[0;32mif\u001b[0m \u001b[0ms\u001b[0m\u001b[0;34m.\u001b[0m\u001b[0mstartswith\u001b[0m\u001b[0;34m(\u001b[0m\u001b[0;34m'org.apache.spark.sql.catalyst.analysis'\u001b[0m\u001b[0;34m)\u001b[0m\u001b[0;34m:\u001b[0m\u001b[0;34m\u001b[0m\u001b[0m\n\u001b[1;32m     71\u001b[0m                 \u001b[0;32mraise\u001b[0m \u001b[0mAnalysisException\u001b[0m\u001b[0;34m(\u001b[0m\u001b[0ms\u001b[0m\u001b[0;34m.\u001b[0m\u001b[0msplit\u001b[0m\u001b[0;34m(\u001b[0m\u001b[0;34m': '\u001b[0m\u001b[0;34m,\u001b[0m \u001b[0;36m1\u001b[0m\u001b[0;34m)\u001b[0m\u001b[0;34m[\u001b[0m\u001b[0;36m1\u001b[0m\u001b[0;34m]\u001b[0m\u001b[0;34m,\u001b[0m \u001b[0mstackTrace\u001b[0m\u001b[0;34m)\u001b[0m\u001b[0;34m\u001b[0m\u001b[0m\n",
      "\u001b[0;31mAnalysisException\u001b[0m: 'Table or view not found: used_data_hourly; line 3 pos 5'"
     ]
    }
   ],
   "source": [
    "query=\"\"\"\n",
    "SELECT  month, day , year, hour, AEP_MW\n",
    "FROM used_data_hourly\n",
    "ORDER BY year, month, day, hour\n",
    "\"\"\"\n",
    "df_pre_format_hours=sqlContext.sql(query)\n",
    "df_pre_format_hours.show(48)\n",
    "sqlContext.registerDataFrameAsTable(df_pre_format_hours,'elec_data_ordered_hrs')\n",
    "\n"
   ]
  },
  {
   "cell_type": "code",
   "execution_count": 32,
   "metadata": {
    "ExecuteTime": {
     "end_time": "2021-02-06T05:46:13.751241Z",
     "start_time": "2021-02-06T05:46:07.553175Z"
    }
   },
   "outputs": [
    {
     "name": "stdout",
     "output_type": "stream",
     "text": [
      "+-----+---+----+--------------------+\n",
      "|month|day|year|         day_consump|\n",
      "+-----+---+----+--------------------+\n",
      "|   01| 01|2005|[12892, 12316, 11...|\n",
      "|   01| 02|2005|[12849, 12291, 11...|\n",
      "|   01| 03|2005|[13080, 12566, 12...|\n",
      "|   01| 04|2005|[14163, 13421, 12...|\n",
      "|   01| 05|2005|[14781, 13994, 13...|\n",
      "|   01| 06|2005|[14860, 13813, 13...|\n",
      "|   01| 07|2005|[15106, 14471, 14...|\n",
      "|   01| 08|2005|[15086, 14347, 13...|\n",
      "|   01| 09|2005|[14546, 13862, 13...|\n",
      "|   01| 10|2005|[14555, 14135, 13...|\n",
      "|   01| 11|2005|[15298, 14780, 14...|\n",
      "|   01| 12|2005|[14891, 13967, 13...|\n",
      "|   01| 13|2005|[13551, 12744, 12...|\n",
      "|   01| 14|2005|[14661, 13948, 13...|\n",
      "|   01| 15|2005|[16588, 15879, 15...|\n",
      "|   01| 16|2005|[15838, 15207, 15...|\n",
      "|   01| 17|2005|[17716, 17280, 17...|\n",
      "|   01| 18|2005|[20066, 19329, 19...|\n",
      "|   01| 19|2005|[19903, 19140, 18...|\n",
      "|   01| 20|2005|[17436, 16640, 16...|\n",
      "+-----+---+----+--------------------+\n",
      "only showing top 20 rows\n",
      "\n"
     ]
    }
   ],
   "source": [
    "query=\"\"\"\n",
    "SELECT  month, day , year, concat_ws(',', collect_list(AEP_MW)) as day_consump\n",
    "FROM elec_data_ordered_hrs\n",
    "GROUP BY month, day, year\n",
    "ORDER BY year, month, day\n",
    "\n",
    "\"\"\"\n",
    "\n",
    "df_grouped_MW_pre=sqlContext.sql(query)\n",
    "df_grouped_MW = df_grouped_MW_pre.withColumn(\"day_consump\", split(col(\"day_consump\"), \",\").cast(\"array<long>\"))\n",
    "df_grouped_MW.show()"
   ]
  },
  {
   "cell_type": "code",
   "execution_count": 33,
   "metadata": {
    "ExecuteTime": {
     "end_time": "2021-02-06T05:46:49.918810Z",
     "start_time": "2021-02-06T05:46:44.504317Z"
    }
   },
   "outputs": [],
   "source": [
    "rdd_daily_outer=df_grouped_MW.rdd.map(lambda row: np.outer(np.array(row['day_consump']),np.array(row['day_consump'])))"
   ]
  },
  {
   "cell_type": "code",
   "execution_count": 34,
   "metadata": {
    "ExecuteTime": {
     "end_time": "2021-02-06T05:46:56.650822Z",
     "start_time": "2021-02-06T05:46:52.513846Z"
    },
    "scrolled": true
   },
   "outputs": [
    {
     "name": "stdout",
     "output_type": "stream",
     "text": [
      "(24, 24)\n"
     ]
    }
   ],
   "source": [
    "rdd_outer_sum=rdd_daily_outer.reduce(lambda x, y: x+y)\n",
    "print(rdd_outer_sum.shape)"
   ]
  },
  {
   "cell_type": "code",
   "execution_count": 35,
   "metadata": {
    "ExecuteTime": {
     "end_time": "2021-02-06T05:48:04.349022Z",
     "start_time": "2021-02-06T05:47:57.368944Z"
    }
   },
   "outputs": [
    {
     "name": "stdout",
     "output_type": "stream",
     "text": [
      "[[2.18979198e+08 2.07619414e+08 2.00760653e+08 1.97030663e+08\n",
      "  1.95686869e+08 1.97822186e+08 2.06164276e+08 2.20727546e+08\n",
      "  2.31054897e+08 2.36111555e+08 2.39963937e+08 2.43300509e+08\n",
      "  2.44673924e+08 2.45839607e+08 2.46672812e+08 2.46048012e+08\n",
      "  2.45312047e+08 2.46796086e+08 2.50184445e+08 2.51870190e+08\n",
      "  2.50957532e+08 2.49881517e+08 2.45532788e+08 2.33132070e+08]\n",
      " [2.07619414e+08 1.96932372e+08 1.90488888e+08 1.87000902e+08\n",
      "  1.85765730e+08 1.87824384e+08 1.95764709e+08 2.09618538e+08\n",
      "  2.19405496e+08 2.24113333e+08 2.27657477e+08 2.30701542e+08\n",
      "  2.31890978e+08 2.32898799e+08 2.33608630e+08 2.32955589e+08\n",
      "  2.32223780e+08 2.33635211e+08 2.36921136e+08 2.38616149e+08\n",
      "  2.37819541e+08 2.36829610e+08 2.32694335e+08 2.20979476e+08]\n",
      " [2.00760653e+08 1.90488888e+08 1.84317764e+08 1.80986138e+08\n",
      "  1.79827245e+08 1.81849778e+08 1.89561164e+08 2.03007891e+08\n",
      "  2.12471651e+08 2.16945073e+08 2.20273486e+08 2.23109771e+08\n",
      "  2.24158342e+08 2.25045937e+08 2.25661864e+08 2.24977170e+08\n",
      "  2.24238842e+08 2.25606594e+08 2.28846204e+08 2.30568341e+08\n",
      "  2.29859275e+08 2.28932115e+08 2.24925023e+08 2.13631900e+08]\n",
      " [1.97030663e+08 1.87000902e+08 1.80986138e+08 1.77756706e+08\n",
      "  1.76647364e+08 1.78659883e+08 1.86257742e+08 1.99500507e+08\n",
      "  2.08790080e+08 2.13115234e+08 2.16300530e+08 2.18996163e+08\n",
      "  2.19941992e+08 2.20742014e+08 2.21289056e+08 2.20573242e+08\n",
      "  2.19823135e+08 2.21167275e+08 2.24395592e+08 2.26152344e+08\n",
      "  2.25508150e+08 2.24626469e+08 2.20687836e+08 2.09631401e+08]\n",
      " [1.95686869e+08 1.85765730e+08 1.79827245e+08 1.76647364e+08\n",
      "  1.75575304e+08 1.77597162e+08 1.85172929e+08 1.98372083e+08\n",
      "  2.07603794e+08 2.11843833e+08 2.14939002e+08 2.17544375e+08\n",
      "  2.18415204e+08 2.19152111e+08 2.19649504e+08 2.18903006e+08\n",
      "  2.18136424e+08 2.19471859e+08 2.22715969e+08 2.24512884e+08\n",
      "  2.23915900e+08 2.23065147e+08 2.19149138e+08 2.08187446e+08]\n",
      " [1.97822186e+08 1.87824384e+08 1.81849778e+08 1.78659883e+08\n",
      "  1.77597162e+08 1.79672620e+08 1.87371888e+08 2.00785520e+08\n",
      "  2.10132720e+08 2.14362511e+08 2.17427717e+08 2.20002728e+08\n",
      "  2.20826889e+08 2.21525722e+08 2.21994298e+08 2.21210287e+08\n",
      "  2.20414108e+08 2.21760499e+08 2.25064251e+08 2.26919338e+08\n",
      "  2.26351046e+08 2.25513684e+08 2.21549098e+08 2.10474478e+08]\n",
      " [2.06164276e+08 1.95764709e+08 1.89561164e+08 1.86257742e+08\n",
      "  1.85172929e+08 1.87371888e+08 1.95478922e+08 2.09596987e+08\n",
      "  2.19376408e+08 2.23709055e+08 2.26831855e+08 2.29468128e+08\n",
      "  2.30280146e+08 2.30974937e+08 2.31444199e+08 2.30603410e+08\n",
      "  2.29747940e+08 2.31138324e+08 2.34580502e+08 2.36534393e+08\n",
      "  2.35973656e+08 2.35128011e+08 2.30986168e+08 2.19425145e+08]\n",
      " [2.20727546e+08 2.09618538e+08 2.03007891e+08 1.99500507e+08\n",
      "  1.98372083e+08 2.00785520e+08 2.09596987e+08 2.24972958e+08\n",
      "  2.35507769e+08 2.40015809e+08 2.43244982e+08 2.45997983e+08\n",
      "  2.46799591e+08 2.47499039e+08 2.47979849e+08 2.47046619e+08\n",
      "  2.46089066e+08 2.47553123e+08 2.51221800e+08 2.53333539e+08\n",
      "  2.52788096e+08 2.51938652e+08 2.47471831e+08 2.35047280e+08]\n",
      " [2.31054897e+08 2.19405496e+08 2.12471651e+08 2.08790080e+08\n",
      "  2.07603794e+08 2.10132720e+08 2.19376408e+08 2.35507769e+08\n",
      "  2.46583472e+08 2.51314357e+08 2.54712642e+08 2.57622080e+08\n",
      "  2.58483140e+08 2.59234693e+08 2.59756118e+08 2.58787044e+08\n",
      "  2.57783401e+08 2.59307984e+08 2.63124841e+08 2.65310763e+08\n",
      "  2.64734003e+08 2.63834451e+08 2.59162011e+08 2.46138844e+08]\n",
      " [2.36111555e+08 2.24113333e+08 2.16945073e+08 2.13115234e+08\n",
      "  2.11843833e+08 2.14362511e+08 2.23709055e+08 2.40015809e+08\n",
      "  2.51314357e+08 2.56338008e+08 2.60006267e+08 2.63162696e+08\n",
      "  2.64215463e+08 2.65124271e+08 2.65763772e+08 2.64859854e+08\n",
      "  2.63893648e+08 2.65457683e+08 2.69279434e+08 2.71393145e+08\n",
      "  2.70697885e+08 2.69716936e+08 2.64969325e+08 2.51629393e+08]\n",
      " [2.39963937e+08 2.27657477e+08 2.20273486e+08 2.16300530e+08\n",
      "  2.14939002e+08 2.17427717e+08 2.26831855e+08 2.43244982e+08\n",
      "  2.54712642e+08 2.60006267e+08 2.63967037e+08 2.67401784e+08\n",
      "  2.68686200e+08 2.69787212e+08 2.70575014e+08 2.69764036e+08\n",
      "  2.68851635e+08 2.70445890e+08 2.74226950e+08 2.76224596e+08\n",
      "  2.75392374e+08 2.74321813e+08 2.69507823e+08 2.55893479e+08]\n",
      " [2.43300509e+08 2.30701542e+08 2.23109771e+08 2.18996163e+08\n",
      "  2.17544375e+08 2.20002728e+08 2.29468128e+08 2.45997983e+08\n",
      "  2.57622080e+08 2.63162696e+08 2.67401784e+08 2.71136866e+08\n",
      "  2.72671087e+08 2.73984204e+08 2.74940638e+08 2.74238080e+08\n",
      "  2.73383273e+08 2.74998155e+08 2.78706910e+08 2.80563398e+08\n",
      "  2.79579096e+08 2.78410582e+08 2.73533404e+08 2.59650505e+08]\n",
      " [2.44673924e+08 2.31890978e+08 2.24158342e+08 2.19941992e+08\n",
      "  2.18415204e+08 2.20826889e+08 2.30280146e+08 2.46799591e+08\n",
      "  2.58483140e+08 2.64215463e+08 2.68686200e+08 2.72671087e+08\n",
      "  2.74441643e+08 2.75952938e+08 2.77069189e+08 2.76479241e+08\n",
      "  2.75689311e+08 2.77314181e+08 2.80926672e+08 2.82635360e+08\n",
      "  2.81513284e+08 2.80261853e+08 2.75356990e+08 2.61316976e+08]\n",
      " [2.45839607e+08 2.32898799e+08 2.25045937e+08 2.20742014e+08\n",
      "  2.19152111e+08 2.21525722e+08 2.30974937e+08 2.47499039e+08\n",
      "  2.59234693e+08 2.65124271e+08 2.69787212e+08 2.73984204e+08\n",
      "  2.75952938e+08 2.77647818e+08 2.78908535e+08 2.78421246e+08\n",
      "  2.77690193e+08 2.79325410e+08 2.82852382e+08 2.84431281e+08\n",
      "  2.83190560e+08 2.81869608e+08 2.76936078e+08 2.62752734e+08]\n",
      " [2.46672812e+08 2.33608630e+08 2.25661864e+08 2.21289056e+08\n",
      "  2.19649504e+08 2.21994298e+08 2.31444199e+08 2.47979849e+08\n",
      "  2.59756118e+08 2.65763772e+08 2.70575014e+08 2.74940638e+08\n",
      "  2.77069189e+08 2.78908535e+08 2.80319571e+08 2.79898332e+08\n",
      "  2.79218605e+08 2.80862547e+08 2.84315861e+08 2.85784503e+08\n",
      "  2.84445652e+08 2.83066185e+08 2.78108635e+08 2.63808975e+08]\n",
      " [2.46048012e+08 2.32955589e+08 2.24977170e+08 2.20573242e+08\n",
      "  2.18903006e+08 2.21210287e+08 2.30603410e+08 2.47046619e+08\n",
      "  2.58787044e+08 2.64859854e+08 2.69764036e+08 2.74238080e+08\n",
      "  2.76479241e+08 2.78421246e+08 2.79898332e+08 2.79578322e+08\n",
      "  2.78947729e+08 2.80596689e+08 2.83984241e+08 2.85361644e+08\n",
      "  2.83948609e+08 2.82528488e+08 2.77578041e+08 2.63264928e+08]\n",
      " [2.45312047e+08 2.32223780e+08 2.24238842e+08 2.19823135e+08\n",
      "  2.18136424e+08 2.20414108e+08 2.29747940e+08 2.46089066e+08\n",
      "  2.57783401e+08 2.63893648e+08 2.68851635e+08 2.73383273e+08\n",
      "  2.75689311e+08 2.77690193e+08 2.79218605e+08 2.78947729e+08\n",
      "  2.78363872e+08 2.80024721e+08 2.83385845e+08 2.84712679e+08\n",
      "  2.83253957e+08 2.81804781e+08 2.76863603e+08 2.62566493e+08]\n",
      " [2.46796086e+08 2.33635211e+08 2.25606594e+08 2.21167275e+08\n",
      "  2.19471859e+08 2.21760499e+08 2.31138324e+08 2.47553123e+08\n",
      "  2.59307984e+08 2.65457683e+08 2.70445890e+08 2.74998155e+08\n",
      "  2.77314181e+08 2.79325410e+08 2.80862547e+08 2.80596689e+08\n",
      "  2.80024721e+08 2.81726453e+08 2.85154466e+08 2.86508283e+08\n",
      "  2.85031259e+08 2.83556415e+08 2.78578155e+08 2.64197869e+08]\n",
      " [2.50184445e+08 2.36921136e+08 2.28846204e+08 2.24395592e+08\n",
      "  2.22715969e+08 2.25064251e+08 2.34580502e+08 2.51221800e+08\n",
      "  2.63124841e+08 2.69279434e+08 2.74226950e+08 2.78706910e+08\n",
      "  2.80926672e+08 2.82852382e+08 2.84315861e+08 2.83984241e+08\n",
      "  2.83385845e+08 2.85154466e+08 2.88816816e+08 2.90322554e+08\n",
      "  2.88869573e+08 2.87370297e+08 2.82310694e+08 2.67793460e+08]\n",
      " [2.51870190e+08 2.38616149e+08 2.30568341e+08 2.26152344e+08\n",
      "  2.24512884e+08 2.26919338e+08 2.36534393e+08 2.53333539e+08\n",
      "  2.65310763e+08 2.71393145e+08 2.76224596e+08 2.80563398e+08\n",
      "  2.82635360e+08 2.84431281e+08 2.85784503e+08 2.85361644e+08\n",
      "  2.84712679e+08 2.86508283e+08 2.90322554e+08 2.92029114e+08\n",
      "  2.90676099e+08 2.89187273e+08 2.84084511e+08 2.69540675e+08]\n",
      " [2.50957532e+08 2.37819541e+08 2.29859275e+08 2.25508150e+08\n",
      "  2.23915900e+08 2.26351046e+08 2.35973656e+08 2.52788096e+08\n",
      "  2.64734003e+08 2.70697885e+08 2.75392374e+08 2.79579096e+08\n",
      "  2.81513284e+08 2.83190560e+08 2.84445652e+08 2.83948609e+08\n",
      "  2.83253957e+08 2.85031259e+08 2.88869573e+08 2.90676099e+08\n",
      "  2.89484612e+08 2.88074513e+08 2.82976652e+08 2.68526479e+08]\n",
      " [2.49881517e+08 2.36829610e+08 2.28932115e+08 2.24626469e+08\n",
      "  2.23065147e+08 2.25513684e+08 2.35128011e+08 2.51938652e+08\n",
      "  2.63834451e+08 2.69716936e+08 2.74321813e+08 2.78410582e+08\n",
      "  2.80261853e+08 2.81869608e+08 2.83066185e+08 2.82528488e+08\n",
      "  2.81804781e+08 2.83556415e+08 2.87370297e+08 2.89187273e+08\n",
      "  2.88074513e+08 2.86805318e+08 2.81740245e+08 2.67360491e+08]\n",
      " [2.45532788e+08 2.32694335e+08 2.24925023e+08 2.20687836e+08\n",
      "  2.19149138e+08 2.21549098e+08 2.30986168e+08 2.47471831e+08\n",
      "  2.59162011e+08 2.64969325e+08 2.69507823e+08 2.73533404e+08\n",
      "  2.75356990e+08 2.76936078e+08 2.78108635e+08 2.77578041e+08\n",
      "  2.76863603e+08 2.78578155e+08 2.82310694e+08 2.84084511e+08\n",
      "  2.82976652e+08 2.81740245e+08 2.76831063e+08 2.62717816e+08]\n",
      " [2.33132070e+08 2.20979476e+08 2.13631900e+08 2.09631401e+08\n",
      "  2.08187446e+08 2.10474478e+08 2.19425145e+08 2.35047280e+08\n",
      "  2.46138844e+08 2.51629393e+08 2.55893479e+08 2.59650505e+08\n",
      "  2.61316976e+08 2.62752734e+08 2.63808975e+08 2.63264928e+08\n",
      "  2.62566493e+08 2.64197869e+08 2.67793460e+08 2.69540675e+08\n",
      "  2.68526479e+08 2.67360491e+08 2.62717816e+08 2.49382779e+08]]\n"
     ]
    }
   ],
   "source": [
    "expec_of_outer=rdd_outer_sum/df_grouped_MW.count()\n",
    "print(expec_of_outer)"
   ]
  },
  {
   "cell_type": "code",
   "execution_count": 36,
   "metadata": {
    "ExecuteTime": {
     "end_time": "2021-02-06T05:48:22.940498Z",
     "start_time": "2021-02-06T05:48:22.924739Z"
    }
   },
   "outputs": [
    {
     "name": "stdout",
     "output_type": "stream",
     "text": [
      "[[2.15264319e+08 2.03998790e+08 1.97188058e+08 1.93495757e+08\n",
      "  1.92169200e+08 1.94287781e+08 2.02561072e+08 2.17032930e+08\n",
      "  2.27271390e+08 2.32354471e+08 2.36270142e+08 2.39649247e+08\n",
      "  2.41091392e+08 2.42333183e+08 2.43237974e+08 2.42682333e+08\n",
      "  2.41995745e+08 2.43429353e+08 2.46586153e+08 2.48046334e+08\n",
      "  2.47283542e+08 2.46458297e+08 2.42153159e+08 2.29804093e+08]\n",
      " [2.03998790e+08 1.93322825e+08 1.86868522e+08 1.83369452e+08\n",
      "  1.82112318e+08 1.84120027e+08 1.91960348e+08 2.05674843e+08\n",
      "  2.15377489e+08 2.20194554e+08 2.23905305e+08 2.27107570e+08\n",
      "  2.28474242e+08 2.29651046e+08 2.30508486e+08 2.29981924e+08\n",
      "  2.29331267e+08 2.30689849e+08 2.33681443e+08 2.35065208e+08\n",
      "  2.34342335e+08 2.33560278e+08 2.29480444e+08 2.17777646e+08]\n",
      " [1.97188058e+08 1.86868522e+08 1.80629704e+08 1.77247454e+08\n",
      "  1.76032291e+08 1.77972970e+08 1.85551533e+08 1.98808154e+08\n",
      "  2.08186866e+08 2.12843108e+08 2.16429972e+08 2.19525325e+08\n",
      "  2.20846370e+08 2.21983884e+08 2.22812698e+08 2.22303715e+08\n",
      "  2.21674782e+08 2.22988006e+08 2.25879722e+08 2.27217288e+08\n",
      "  2.26518550e+08 2.25762603e+08 2.21818978e+08 2.10506892e+08]\n",
      " [1.93495757e+08 1.83369452e+08 1.77247454e+08 1.73928537e+08\n",
      "  1.72736127e+08 1.74640467e+08 1.82077123e+08 1.95085518e+08\n",
      "  2.04288615e+08 2.08857670e+08 2.12377370e+08 2.15414764e+08\n",
      "  2.16711072e+08 2.17827287e+08 2.18640582e+08 2.18141129e+08\n",
      "  2.17523973e+08 2.18812607e+08 2.21650176e+08 2.22962697e+08\n",
      "  2.22277042e+08 2.21535250e+08 2.17665468e+08 2.06565199e+08]\n",
      " [1.92169200e+08 1.82112318e+08 1.76032291e+08 1.72736127e+08\n",
      "  1.71551892e+08 1.73443177e+08 1.80828849e+08 1.93748061e+08\n",
      "  2.02888065e+08 2.07425795e+08 2.10921365e+08 2.13937935e+08\n",
      "  2.15225356e+08 2.16333919e+08 2.17141638e+08 2.16645609e+08\n",
      "  2.16032684e+08 2.17312483e+08 2.20130599e+08 2.21434121e+08\n",
      "  2.20753167e+08 2.20016461e+08 2.16173209e+08 2.05149040e+08]\n",
      " [1.94287781e+08 1.84120027e+08 1.77972970e+08 1.74640467e+08\n",
      "  1.73443177e+08 1.75355312e+08 1.82822408e+08 1.95884049e+08\n",
      "  2.05124817e+08 2.09712574e+08 2.13246681e+08 2.16296508e+08\n",
      "  2.17598122e+08 2.18718906e+08 2.19535529e+08 2.19034033e+08\n",
      "  2.18414350e+08 2.19708259e+08 2.22557443e+08 2.23875336e+08\n",
      "  2.23186874e+08 2.22442046e+08 2.18556425e+08 2.07410719e+08]\n",
      " [2.02561072e+08 1.91960348e+08 1.85551533e+08 1.82077123e+08\n",
      "  1.80828849e+08 1.82822408e+08 1.90607473e+08 2.04225313e+08\n",
      "  2.13859578e+08 2.18642694e+08 2.22327293e+08 2.25506989e+08\n",
      "  2.26864030e+08 2.28032540e+08 2.28883937e+08 2.28361085e+08\n",
      "  2.27715015e+08 2.29064021e+08 2.32034532e+08 2.33408544e+08\n",
      "  2.32690766e+08 2.31914221e+08 2.27863139e+08 2.16242820e+08]\n",
      " [2.17032930e+08 2.05674843e+08 1.98808154e+08 1.95085518e+08\n",
      "  1.93748061e+08 1.95884049e+08 2.04225313e+08 2.18816072e+08\n",
      "  2.29138651e+08 2.34263494e+08 2.38211337e+08 2.41618205e+08\n",
      "  2.43072198e+08 2.44324192e+08 2.45236417e+08 2.44676210e+08\n",
      "  2.43983981e+08 2.45429367e+08 2.48612104e+08 2.50084282e+08\n",
      "  2.49315222e+08 2.48483197e+08 2.44142689e+08 2.31692162e+08]\n",
      " [2.27271390e+08 2.15377489e+08 2.08186866e+08 2.04288615e+08\n",
      "  2.02888065e+08 2.05124817e+08 2.13859578e+08 2.29138651e+08\n",
      "  2.39948195e+08 2.45314800e+08 2.49448882e+08 2.53016467e+08\n",
      "  2.54539052e+08 2.55850108e+08 2.56805367e+08 2.56218733e+08\n",
      "  2.55493849e+08 2.57007420e+08 2.60340301e+08 2.61881929e+08\n",
      "  2.61076589e+08 2.60205314e+08 2.55660043e+08 2.42622167e+08]\n",
      " [2.32354471e+08 2.20194554e+08 2.12843108e+08 2.08857670e+08\n",
      "  2.07425795e+08 2.09712574e+08 2.18642694e+08 2.34263494e+08\n",
      "  2.45314800e+08 2.50801434e+08 2.55027977e+08 2.58675354e+08\n",
      "  2.60231993e+08 2.61572371e+08 2.62548995e+08 2.61949241e+08\n",
      "  2.61208144e+08 2.62755567e+08 2.66162991e+08 2.67739097e+08\n",
      "  2.66915746e+08 2.66024984e+08 2.61378055e+08 2.48048578e+08]\n",
      " [2.36270142e+08 2.23905305e+08 2.16429972e+08 2.12377370e+08\n",
      "  2.10921365e+08 2.13246681e+08 2.22327293e+08 2.38211337e+08\n",
      "  2.49448882e+08 2.55027977e+08 2.59325746e+08 2.63034589e+08\n",
      "  2.64617461e+08 2.65980427e+08 2.66973510e+08 2.66363648e+08\n",
      "  2.65610062e+08 2.67183563e+08 2.70648409e+08 2.72251076e+08\n",
      "  2.71413850e+08 2.70508076e+08 2.65782837e+08 2.52228729e+08]\n",
      " [2.39649247e+08 2.27107570e+08 2.19525325e+08 2.15414764e+08\n",
      "  2.13937935e+08 2.16296508e+08 2.25506989e+08 2.41618205e+08\n",
      "  2.53016467e+08 2.58675354e+08 2.63034589e+08 2.66796475e+08\n",
      "  2.68401985e+08 2.69784445e+08 2.70791730e+08 2.70173146e+08\n",
      "  2.69408782e+08 2.71004787e+08 2.74519187e+08 2.76144776e+08\n",
      "  2.75295575e+08 2.74376848e+08 2.69584028e+08 2.55836072e+08]\n",
      " [2.41091392e+08 2.28474242e+08 2.20846370e+08 2.16711072e+08\n",
      "  2.15225356e+08 2.17598122e+08 2.26864030e+08 2.43072198e+08\n",
      "  2.54539052e+08 2.60231993e+08 2.64617461e+08 2.68401985e+08\n",
      "  2.70017156e+08 2.71407935e+08 2.72421282e+08 2.71798976e+08\n",
      "  2.71030012e+08 2.72635622e+08 2.76171170e+08 2.77806541e+08\n",
      "  2.76952230e+08 2.76027974e+08 2.71206313e+08 2.57375625e+08]\n",
      " [2.42333183e+08 2.29651046e+08 2.21983884e+08 2.17827287e+08\n",
      "  2.16333919e+08 2.18718906e+08 2.28032540e+08 2.44324192e+08\n",
      "  2.55850108e+08 2.61572371e+08 2.65980427e+08 2.69784445e+08\n",
      "  2.71407935e+08 2.72805878e+08 2.73824444e+08 2.73198932e+08\n",
      "  2.72426008e+08 2.74039887e+08 2.77593646e+08 2.79237441e+08\n",
      "  2.78378730e+08 2.77449713e+08 2.72603217e+08 2.58701291e+08]\n",
      " [2.43237974e+08 2.30508486e+08 2.22812698e+08 2.18640582e+08\n",
      "  2.17141638e+08 2.19535529e+08 2.28883937e+08 2.45236417e+08\n",
      "  2.56805367e+08 2.62548995e+08 2.66973510e+08 2.70791730e+08\n",
      "  2.72421282e+08 2.73824444e+08 2.74846813e+08 2.74218966e+08\n",
      "  2.73443156e+08 2.75063061e+08 2.78630088e+08 2.80280020e+08\n",
      "  2.79418103e+08 2.78485618e+08 2.73621026e+08 2.59667195e+08]\n",
      " [2.42682333e+08 2.29981924e+08 2.22303715e+08 2.18141129e+08\n",
      "  2.16645609e+08 2.19034033e+08 2.28361085e+08 2.44676210e+08\n",
      "  2.56218733e+08 2.61949241e+08 2.66363648e+08 2.70173146e+08\n",
      "  2.71798976e+08 2.73198932e+08 2.74218966e+08 2.73592553e+08\n",
      "  2.72818515e+08 2.74434720e+08 2.77993599e+08 2.79639762e+08\n",
      "  2.78779814e+08 2.77849458e+08 2.72995979e+08 2.59074024e+08]\n",
      " [2.41995745e+08 2.29331267e+08 2.21674782e+08 2.17523973e+08\n",
      "  2.16032684e+08 2.18414350e+08 2.27715015e+08 2.43983981e+08\n",
      "  2.55493849e+08 2.61208144e+08 2.65610062e+08 2.69408782e+08\n",
      "  2.71030012e+08 2.72426008e+08 2.73443156e+08 2.72818515e+08\n",
      "  2.72046667e+08 2.73658299e+08 2.77207110e+08 2.78848615e+08\n",
      "  2.77991100e+08 2.77063377e+08 2.72223629e+08 2.58341061e+08]\n",
      " [2.43429353e+08 2.30689849e+08 2.22988006e+08 2.18812607e+08\n",
      "  2.17312483e+08 2.19708259e+08 2.29064021e+08 2.45429367e+08\n",
      "  2.57007420e+08 2.62755567e+08 2.67183563e+08 2.71004787e+08\n",
      "  2.72635622e+08 2.74039887e+08 2.75063061e+08 2.74434720e+08\n",
      "  2.73658299e+08 2.75279479e+08 2.78849313e+08 2.80500543e+08\n",
      "  2.79637948e+08 2.78704728e+08 2.73836310e+08 2.59871500e+08]\n",
      " [2.46586153e+08 2.33681443e+08 2.25879722e+08 2.21650176e+08\n",
      "  2.20130599e+08 2.22557443e+08 2.32034532e+08 2.48612104e+08\n",
      "  2.60340301e+08 2.66162991e+08 2.70648409e+08 2.74519187e+08\n",
      "  2.76171170e+08 2.77593646e+08 2.78630088e+08 2.77993599e+08\n",
      "  2.77207110e+08 2.78849313e+08 2.82465441e+08 2.84138084e+08\n",
      "  2.83264302e+08 2.82318981e+08 2.77387428e+08 2.63241522e+08]\n",
      " [2.48046334e+08 2.35065208e+08 2.27217288e+08 2.22962697e+08\n",
      "  2.21434121e+08 2.23875336e+08 2.33408544e+08 2.50084282e+08\n",
      "  2.61881929e+08 2.67739097e+08 2.72251076e+08 2.76144776e+08\n",
      "  2.77806541e+08 2.79237441e+08 2.80280020e+08 2.79639762e+08\n",
      "  2.78848615e+08 2.80500543e+08 2.84138084e+08 2.85820632e+08\n",
      "  2.84941676e+08 2.83990757e+08 2.79030002e+08 2.64800330e+08]\n",
      " [2.47283542e+08 2.34342335e+08 2.26518550e+08 2.22277042e+08\n",
      "  2.20753167e+08 2.23186874e+08 2.32690766e+08 2.49315222e+08\n",
      "  2.61076589e+08 2.66915746e+08 2.71413850e+08 2.75295575e+08\n",
      "  2.76952230e+08 2.78378730e+08 2.79418103e+08 2.78779814e+08\n",
      "  2.77991100e+08 2.79637948e+08 2.83264302e+08 2.84941676e+08\n",
      "  2.84065423e+08 2.83117429e+08 2.78171929e+08 2.63986016e+08]\n",
      " [2.46458297e+08 2.33560278e+08 2.25762603e+08 2.21535250e+08\n",
      "  2.20016461e+08 2.22442046e+08 2.31914221e+08 2.48483197e+08\n",
      "  2.60205314e+08 2.66024984e+08 2.70508076e+08 2.74376848e+08\n",
      "  2.76027974e+08 2.77449713e+08 2.78485618e+08 2.77849458e+08\n",
      "  2.77063377e+08 2.78704728e+08 2.82318981e+08 2.83990757e+08\n",
      "  2.83117429e+08 2.82172598e+08 2.77243602e+08 2.63105031e+08]\n",
      " [2.42153159e+08 2.29480444e+08 2.21818978e+08 2.17665468e+08\n",
      "  2.16173209e+08 2.18556425e+08 2.27863139e+08 2.44142689e+08\n",
      "  2.55660043e+08 2.61378055e+08 2.65782837e+08 2.69584028e+08\n",
      "  2.71206313e+08 2.72603217e+08 2.73621026e+08 2.72995979e+08\n",
      "  2.72223629e+08 2.73836310e+08 2.77387428e+08 2.79030002e+08\n",
      "  2.78171929e+08 2.77243602e+08 2.72400706e+08 2.58509108e+08]\n",
      " [2.29804093e+08 2.17777646e+08 2.10506892e+08 2.06565199e+08\n",
      "  2.05149040e+08 2.07410719e+08 2.16242820e+08 2.31692162e+08\n",
      "  2.42622167e+08 2.48048578e+08 2.52228729e+08 2.55836072e+08\n",
      "  2.57375625e+08 2.58701291e+08 2.59667195e+08 2.59074024e+08\n",
      "  2.58341061e+08 2.59871500e+08 2.63241522e+08 2.64800330e+08\n",
      "  2.63986016e+08 2.63105031e+08 2.58509108e+08 2.45325938e+08]]\n"
     ]
    }
   ],
   "source": [
    "day_expec_outer_prod=np.outer(hour_avg_array, hour_avg_array)\n",
    "print(day_expec_outer_prod)\n"
   ]
  },
  {
   "cell_type": "code",
   "execution_count": 37,
   "metadata": {
    "ExecuteTime": {
     "end_time": "2021-02-06T05:48:27.555730Z",
     "start_time": "2021-02-06T05:48:27.538486Z"
    }
   },
   "outputs": [
    {
     "name": "stdout",
     "output_type": "stream",
     "text": [
      "[[3714878.17855319 3620623.75150919 3572594.65244827 3534906.26835209\n",
      "  3517669.66423422 3534405.37785965 3603203.95845163 3694615.25286898\n",
      "  3783506.52832681 3757084.25907725 3693794.56006604 3651261.42074436\n",
      "  3582531.52497452 3506423.67895782 3434837.90610129 3365678.64325777\n",
      "  3316301.53794411 3366733.6119774  3598292.03471193 3823856.53931823\n",
      "  3673990.44845766 3423220.34345701 3379628.60548136 3327976.80846471]\n",
      " [3620623.75150919 3609547.0004676  3620366.29170802 3631449.72944611\n",
      "  3653412.23723859 3704356.86989996 3804361.59988019 3943694.92261282\n",
      "  4028006.55534419 3918779.20041013 3752171.61237234 3593972.42906204\n",
      "  3416735.17519298 3247752.85859698 3100144.0371384  2973665.40561193\n",
      "  2892512.64916927 2945362.07888982 3239692.48350525 3550940.78767914\n",
      "  3477206.24164844 3269331.45172232 3213891.54342479 3201829.65472442]\n",
      " [3572594.65244827 3620366.29170802 3688060.0845215  3738683.70410147\n",
      "  3794954.28223151 3876807.57355887 4009630.80027822 4199736.92289141\n",
      "  4284785.02028361 4101964.80329061 3843514.06260404 3584445.71424007\n",
      "  3311972.70713273 3062052.37485841 2849165.42617425 2673455.09986091\n",
      "  2564059.60917178 2618588.29669851 2966482.20902935 3351052.43435076\n",
      "  3340725.83884588 3169511.95948222 3106045.00091031 3125007.7308147 ]\n",
      " [3534906.26835209 3631449.72944611 3738683.70410147 3828169.0180364\n",
      "  3911237.48306268 4019416.1528827  4180618.52409086 4414988.91985747\n",
      "  4501464.34631637 4257563.44478312 3923159.50603816 3581398.92405266\n",
      "  3230919.45271072 2914726.34460178 2648473.92037877 2432112.84309694\n",
      "  2299161.93265343 2354668.27898216 2745415.49673268 3189646.73316643\n",
      "  3231107.95307475 3091219.13386503 3022367.12989622 3066202.20061126]\n",
      " [3517669.66423422 3653412.23723859 3794954.28223151 3911237.48306268\n",
      "  4023412.2086505  4153985.39255652 4344079.64303222 4624021.81701329\n",
      "  4715729.3417803  4418038.15749684 4017636.72333655 3606440.09874243\n",
      "  3189847.16752177 2818192.41119808 2507866.64382032 2257396.18515903\n",
      "  2103739.8477504  2159375.44846907 2585370.07771534 3078762.4806619\n",
      "  3162733.02934778 3048686.76301682 2975928.35317698 3038405.13619921]\n",
      " [3534405.37785965 3704356.86989996 3876807.57355887 4019416.1528827\n",
      "  4153985.39255652 4317308.08356285 4549479.5778147  4901471.51382512\n",
      "  5007902.68043095 4649936.61178079 4181035.7296699  3706220.65178585\n",
      "  3228767.37335026 2806815.79520658 2458769.02228132 2176254.63321599\n",
      "  1999758.04316244 2052240.83938029 2506807.51512229 3044002.3324748\n",
      "  3164171.65851298 3071637.75083682 2992673.71285796 3063759.31321543]\n",
      " [3603203.95845163 3804361.59988019 4009630.80027822 4180618.52409086\n",
      "  4344079.64303222 4549479.5778147  4871448.36217558 5371673.32465771\n",
      "  5516830.05826586 5066360.67886421 4504561.64662495 3961139.28133291\n",
      "  3416116.32328585 2942396.99331111 2560262.37223339 2242324.79531965\n",
      "  2032925.52852347 2074302.05717224 2545970.18957937 3125848.71320301\n",
      "  3282890.18552187 3213790.20426565 3123028.81928512 3182324.63030243]\n",
      " [3694615.25286898 3943694.92261282 4199736.92289141 4414988.91985747\n",
      "  4624021.81701329 4901471.51382512 5371673.32465771 6156886.39595732\n",
      "  6369117.66819164 5752314.54677233 5033644.61370254 4379778.12707227\n",
      "  3727392.68042195 3174847.84480938 2743431.78177407 2370409.1936788\n",
      "  2105084.37730259 2123756.00690302 2609696.09157571 3249257.039621\n",
      "  3472873.48582831 3455454.33175567 3329142.52028167 3355117.98237193]\n",
      " [3783506.52832681 4028006.55534419 4284785.02028361 4501464.34631637\n",
      "  4715729.3417803  5007902.68043095 5516830.05826586 6369117.66819164\n",
      "  6635277.4068312  5999556.95138961 5263760.79982182 4605612.72775403\n",
      "  3944087.5333578  3384584.86903426 2950750.97475785 2568310.6768429\n",
      "  2289552.36780384 2300564.21144238 2784539.22436708 3428834.71492326\n",
      "  3657413.22090328 3629136.83419731 3501968.29113135 3516677.29962331]\n",
      " [3757084.25907725 3918779.20041013 4101964.80329061 4257563.44478312\n",
      "  4418038.15749684 4649936.61178079 5066360.67886421 5752314.54677233\n",
      "  5999556.95138961 5536573.5275431  4978289.98658562 4487342.37140456\n",
      "  3983470.2497409  3551899.71902102 3214777.11161277 2910613.42700851\n",
      "  2685504.24125922 2702116.25480002 3116443.65773711 3654047.14214629\n",
      "  3782139.21600842 3691951.55491337 3591269.87171596 3580814.74893841]\n",
      " [3693794.56006604 3752171.61237234 3843514.06260404 3923159.50603816\n",
      "  4017636.72333655 4181035.7296699  4504561.64662495 5033644.61370254\n",
      "  5263760.79982182 4978289.98658562 4641291.33373189 4367195.42581397\n",
      "  4068739.5915758  3806784.53662041 3601504.33677149 3400388.11484534\n",
      "  3241573.15985185 3262326.81950134 3578541.3371911  3973519.76594985\n",
      "  3978524.72951686 3813737.16025245 3724986.08143979 3664749.86417121]\n",
      " [3651261.42074436 3593972.42906204 3584445.71424007 3581398.92405266\n",
      "  3606440.09874243 3706220.65178585 3961139.28133291 4379778.12707227\n",
      "  4605612.72775403 4487342.37140456 4367195.42581397 4340390.42700502\n",
      "  4269101.75300974 4199759.32360804 4148908.35188121 4064934.19068909\n",
      "  3974490.27094251 3993367.22802448 4187723.23101282 4418621.97024751\n",
      "  4283520.49396694 4033734.80637115 3949375.99045742 3814433.19334987]\n",
      " [3582531.52497452 3416735.17519298 3311972.70713273 3230919.45271072\n",
      "  3189847.16752177 3228767.37335026 3416116.32328585 3727392.68042195\n",
      "  3944087.5333578  3983470.2497409  4068739.5915758  4269101.75300974\n",
      "  4424486.6746245  4545002.61700577 4647906.94420987 4680265.13495952\n",
      "  4659298.81005639 4678558.97999173 4755502.06880862 4828819.18854362\n",
      "  4561053.89349335 4233879.10060698 4150677.01608062 3941351.25211439]\n",
      " [3506423.67895782 3247752.85859698 3062052.37485841 2914726.34460178\n",
      "  2818192.41119808 2806815.79520658 2942396.99331111 3174847.84480938\n",
      "  3384584.86903426 3551899.71902102 3806784.53662041 4199759.32360804\n",
      "  4545002.61700577 4841940.06068623 5084090.79445261 5222313.72655559\n",
      "  5264185.22678477 5285523.01524258 5258735.6487475  5193840.24988788\n",
      "  4811830.25045985 4419895.04624909 4332860.98531246 4051443.46077523]\n",
      " [3434837.90610129 3100144.0371384  2849165.42617425 2648473.92037877\n",
      "  2507866.64382032 2458769.02228132 2560262.37223339 2743431.78177407\n",
      "  2950750.97475785 3214777.11161277 3601504.33677149 4148908.35188121\n",
      "  4647906.94420987 5084090.79445261 5472757.48032463 5679365.76899385\n",
      "  5775449.3815425  5799486.15876436 5685772.24555492 5504483.10257322\n",
      "  5027548.40905464 4580567.70240134 4487608.24429464 4141780.15448022]\n",
      " [3365678.64325777 2973665.40561193 2673455.09986091 2432112.84309694\n",
      "  2257396.18515903 2176254.63321599 2242324.79531965 2370409.1936788\n",
      "  2568310.6768429  2910613.42700851 3400388.11484534 4064934.19068909\n",
      "  4680265.13495952 5222313.72655559 5679365.76899385 5985768.56744581\n",
      "  6129213.65510678 6161969.37460667 5990642.29374605 5721881.76856625\n",
      "  5168795.76098639 4679029.83945084 4582061.39130402 4190904.87083453]\n",
      " [3316301.53794411 2892512.64916927 2564059.60917178 2299161.93265343\n",
      "  2103739.8477504  1999758.04316244 2032925.52852347 2105084.37730259\n",
      "  2289552.36780384 2685504.24125922 3241573.15985185 3974490.27094251\n",
      "  4659298.81005639 5264185.22678477 5775449.3815425  6129213.65510678\n",
      "  6317204.39563698 6366421.26090014 6178735.17713463 5864064.00382882\n",
      "  5262857.32161844 4741404.24290752 4639974.27969027 4225432.24665773]\n",
      " [3366733.6119774  2945362.07888982 2618588.29669851 2354668.27898216\n",
      "  2159375.44846907 2052240.83938029 2074302.05717224 2123756.00690302\n",
      "  2300564.21144238 2702116.25480002 3262326.81950134 3993367.22802448\n",
      "  4678558.97999173 5285523.01524258 5799486.15876436 6161969.37460667\n",
      "  6366421.26090014 6446973.92512947 6305152.85890579 6007739.89538419\n",
      "  5393311.01727957 4851686.09406745 4741845.70197469 4326368.92328596]\n",
      " [3598292.03471193 3239692.48350525 2966482.20902935 2745415.49673268\n",
      "  2585370.07771534 2506807.51512229 2545970.18957937 2609696.09157571\n",
      "  2784539.22436708 3116443.65773711 3578541.3371911  4187723.23101282\n",
      "  4755502.06880862 5258735.6487475  5685772.24555492 5990642.29374605\n",
      "  6178735.17713463 6305152.85890579 6351375.16617775 6184469.96407664\n",
      "  5605271.15770125 5051315.50318664 4923265.34513402 4551938.0803954 ]\n",
      " [3823856.53931823 3550940.78767914 3351052.43435076 3189646.73316643\n",
      "  3078762.4806619  3044002.3324748  3125848.71320301 3249257.039621\n",
      "  3428834.71492326 3654047.14214629 3973519.76594985 4418621.97024751\n",
      "  4828819.18854362 5193840.24988788 5504483.10257322 5721881.76856625\n",
      "  5864064.00382882 6007739.89538419 6184469.96407664 6208482.36345702\n",
      "  5734423.22151256 5196516.19510198 5054509.65542513 4740345.9417493 ]\n",
      " [3673990.44845766 3477206.24164844 3340725.83884588 3231107.95307475\n",
      "  3162733.02934778 3164171.65851298 3282890.18552187 3472873.48582831\n",
      "  3657413.22090328 3782139.21600842 3978524.72951686 4283520.49396694\n",
      "  4561053.89349335 4811830.25045985 5027548.40905464 5168795.76098639\n",
      "  5262857.32161844 5393311.01727957 5605271.15770125 5734423.22151256\n",
      "  5419189.01886278 4957084.82453382 4804723.43236679 4540463.85453761]\n",
      " [3423220.34345701 3269331.45172232 3169511.95948222 3091219.13386503\n",
      "  3048686.76301682 3071637.75083682 3213790.20426565 3455454.33175567\n",
      "  3629136.83419731 3691951.55491337 3813737.16025245 4033734.80637115\n",
      "  4233879.10060698 4419895.04624909 4580567.70240134 4679029.83945084\n",
      "  4741404.24290752 4851686.09406745 5051315.50318664 5196516.19510198\n",
      "  4957084.82453382 4632720.74228054 4496642.84412384 4255460.86281806]\n",
      " [3379628.60548136 3213891.54342479 3106045.00091031 3022367.12989622\n",
      "  2975928.35317698 2992673.71285796 3123028.81928512 3329142.52028167\n",
      "  3501968.29113135 3591269.87171596 3724986.08143979 3949375.99045742\n",
      "  4150677.01608062 4332860.98531246 4487608.24429464 4582061.39130402\n",
      "  4639974.27969027 4741845.70197469 4923265.34513402 5054509.65542513\n",
      "  4804723.43236679 4496642.84412384 4430356.44141895 4208708.3173815 ]\n",
      " [3327976.80846471 3201829.65472442 3125007.7308147  3066202.20061126\n",
      "  3038405.13619921 3063759.31321543 3182324.63030243 3355117.98237193\n",
      "  3516677.29962331 3580814.74893841 3664749.86417121 3814433.19334987\n",
      "  3941351.25211439 4051443.46077523 4141780.15448022 4190904.87083453\n",
      "  4225432.24665773 4326368.92328596 4551938.0803954  4740345.9417493\n",
      "  4540463.85453761 4255460.86281806 4208708.3173815  4056841.61084867]]\n"
     ]
    }
   ],
   "source": [
    "cov_hours=expec_of_outer-day_expec_outer_prod\n",
    "print(cov_hours)"
   ]
  },
  {
   "cell_type": "code",
   "execution_count": 38,
   "metadata": {
    "ExecuteTime": {
     "end_time": "2021-02-06T05:48:32.912629Z",
     "start_time": "2021-02-06T05:48:32.648660Z"
    }
   },
   "outputs": [
    {
     "name": "stdout",
     "output_type": "stream",
     "text": [
      "[9.45614779e+07 2.11386241e+07 2.07281912e+06 1.41820341e+06\n",
      " 3.35581585e+05 1.39840410e+05 8.91230429e+04 6.99703674e+04\n",
      " 2.88389918e+04 2.50262308e+04 1.83877394e+04 9.25791217e+03\n",
      " 8.00037518e+03 6.26504216e+03 5.50841788e+03 4.16976345e+03\n",
      " 3.55953960e+03 3.32276010e+03 2.70780161e+03 2.46446057e+03\n",
      " 1.87471768e+03 2.01806662e+03 2.15764810e+03 2.13900182e+03]\n",
      "[-1.83835143e-01  6.69782280e-02  3.81249359e-01 -2.43173753e-01\n",
      " -8.06834825e-02  7.10104998e-02 -6.04760238e-01  1.40976291e-01\n",
      "  6.47201668e-02 -8.76111258e-03  5.64734115e-02 -1.84801961e-01\n",
      " -2.72814019e-01  3.33275621e-01 -1.12200162e-01 -1.91851866e-01\n",
      "  1.52509595e-01 -2.11011226e-01  1.18629732e-01  1.04490261e-02\n",
      "  3.49382049e-02 -1.70925491e-02 -9.47442414e-03 -3.38869558e-04]\n"
     ]
    }
   ],
   "source": [
    "eigval,eigvec=LA.eig(cov_hours)\n",
    "print(eigval)\n",
    "print(eigvec[0])"
   ]
  },
  {
   "cell_type": "code",
   "execution_count": 39,
   "metadata": {
    "ExecuteTime": {
     "end_time": "2021-02-06T05:48:37.627229Z",
     "start_time": "2021-02-06T05:48:37.619706Z"
    }
   },
   "outputs": [],
   "source": [
    "def compute_eig_val_percent(eig_val_set):\n",
    "    e_val_percent=([0,]+list(np.cumsum(eig_val_set)))/sum(eig_val_set)\n",
    "    return  e_val_percent"
   ]
  },
  {
   "cell_type": "code",
   "execution_count": 40,
   "metadata": {
    "ExecuteTime": {
     "end_time": "2021-02-06T05:48:41.170896Z",
     "start_time": "2021-02-06T05:48:41.163441Z"
    }
   },
   "outputs": [
    {
     "name": "stdout",
     "output_type": "stream",
     "text": [
      "[0.         0.78833199 0.96455866 0.98183916 0.99366231 0.99645996\n",
      " 0.99762577 0.99836876 0.99895209 0.99919251 0.99940115 0.99955444\n",
      " 0.99963162 0.99969832 0.99975055 0.99979647 0.99983123 0.99986091\n",
      " 0.99988861 0.99991118 0.99993173 0.99994736 0.99996418 0.99998217\n",
      " 1.        ]\n"
     ]
    }
   ],
   "source": [
    "e_val_contribution=compute_eig_val_percent(eigval)\n",
    "print(e_val_contribution)"
   ]
  },
  {
   "cell_type": "code",
   "execution_count": 41,
   "metadata": {
    "ExecuteTime": {
     "end_time": "2021-02-06T05:49:04.436340Z",
     "start_time": "2021-02-06T05:49:04.203237Z"
    }
   },
   "outputs": [
    {
     "data": {
      "image/png": "[encoded data removed]",
      "text/plain": [
       "<Figure size 432x288 with 1 Axes>"
      ]
     },
     "metadata": {},
     "output_type": "display_data"
    }
   ],
   "source": [
    "plt.plot(list(range(e_val_contribution[:4].size)),e_val_contribution[:4])\n",
    "plt.title('Percentage of Variance Explained')\n",
    "plt.ylabel('Percentage of Variance')\n",
    "plt.xlabel('# Eigenvector')\n",
    "plt.xticks(list(range(e_val_contribution[:4].size)),list(range(e_val_contribution[:4].size)))\n",
    "plt.show()"
   ]
  },
  {
   "cell_type": "code",
   "execution_count": 42,
   "metadata": {
    "ExecuteTime": {
     "end_time": "2021-02-06T05:49:32.347551Z",
     "start_time": "2021-02-06T05:49:20.155454Z"
    }
   },
   "outputs": [
    {
     "name": "stdout",
     "output_type": "stream",
     "text": [
      "+----+------------------+\n",
      "|hour|   STDEV_MW_per_hr|\n",
      "+----+------------------+\n",
      "|  00|1927.6061741580108|\n",
      "|  01|1900.0821190619693|\n",
      "|  02|1920.6357760940114|\n",
      "|  03|1956.7780698399422|\n",
      "|  04|2006.0570749204626|\n",
      "|  05|2078.0334826997123|\n",
      "|  06|  2207.36967592725|\n",
      "|  07| 2481.570344358184|\n",
      "|  08|  2576.17619387038|\n",
      "|  09| 2353.241812405798|\n",
      "|  10| 2154.593946665252|\n",
      "|  11|2083.5811457832174|\n",
      "|  12|2103.6692856143404|\n",
      "|  13|2200.6740627146055|\n",
      "|  14|2339.6404540775243|\n",
      "|  15|2446.8423072075893|\n",
      "|  16|2513.6712899171735|\n",
      "|  17| 2539.358263114022|\n",
      "|  18|2520.4605465933378|\n",
      "|  19| 2491.946684317429|\n",
      "|  20| 2328.161858383733|\n",
      "|  21| 2152.603694826838|\n",
      "|  22|2105.0642446617644|\n",
      "|  23|2014.3737179429716|\n",
      "+----+------------------+\n",
      "\n"
     ]
    }
   ],
   "source": [
    "query=\"\"\"\n",
    "SELECT  hour, STDDEV(AEP_MW) AS STDEV_MW_per_hr \n",
    "FROM elec_data_ordered_hrs\n",
    "GROUP BY hour\n",
    "ORDER BY hour\n",
    "\"\"\"\n",
    "\n",
    "df_hr_stdev=sqlContext.sql(query)\n",
    "df_hr_stdev.show(24)\n",
    "rdd_hr_stdev=df_hr_stdev.rdd.map(lambda row: np.float(row['STDEV_MW_per_hr']))\n",
    "hour_stdev_array=np.array(rdd_hr_stdev.collect())"
   ]
  },
  {
   "cell_type": "code",
   "execution_count": 43,
   "metadata": {
    "ExecuteTime": {
     "end_time": "2021-02-06T05:50:16.267903Z",
     "start_time": "2021-02-06T05:50:15.819857Z"
    }
   },
   "outputs": [
    {
     "data": {
      "image/png": "[encoded data removed]",
      "text/plain": [
       "<Figure size 1080x504 with 1 Axes>"
      ]
     },
     "metadata": {},
     "output_type": "display_data"
    }
   ],
   "source": [
    "plt.figure(figsize=(15,7))\n",
    "plt.plot(list(range(hour_avg_array.size)),hour_avg_array, label=\"avg\")\n",
    "plt.plot(list(range(hour_avg_array.size)),hour_avg_array-hour_stdev_array, label=\"avg-stdev\")\n",
    "plt.plot(list(range(hour_avg_array.size)),hour_avg_array+hour_stdev_array, label=\"avg+stdev\")\n",
    "plt.title('Avg MW used per hour')\n",
    "plt.ylabel('MW per hour')\n",
    "plt.xlabel('Hour')\n",
    "plt.xticks(list(range(hour_avg_array.size)),list(range(hour_avg_array.size)))\n",
    "plt.legend()\n",
    "plt.show()"
   ]
  },
  {
   "cell_type": "code",
   "execution_count": 44,
   "metadata": {
    "ExecuteTime": {
     "end_time": "2021-02-06T05:51:04.553152Z",
     "start_time": "2021-02-06T05:51:04.018991Z"
    }
   },
   "outputs": [
    {
     "data": {
      "image/png": "[encoded data removed]",
      "text/plain": [
       "<Figure size 1080x504 with 2 Axes>"
      ]
     },
     "metadata": {},
     "output_type": "display_data"
    }
   ],
   "source": [
    "plt.figure(figsize=(15, 7))\n",
    "plt.subplot(211)\n",
    "plt.plot(list(range(hour_avg_array.size)), hour_avg_array)\n",
    "plt.xticks(list(range(hour_avg_array.size)),list(range(hour_avg_array.size)))\n",
    "plt.subplot(212)\n",
    "plt.plot(list(range(hour_avg_array.size)), eigvec[0])\n",
    "plt.plot(list(range(hour_avg_array.size)), eigvec[1])\n",
    "plt.plot(list(range(hour_avg_array.size)), np.zeros(24))\n",
    "plt.xticks(list(range(hour_avg_array.size)),list(range(hour_avg_array.size)))\n",
    "#plt.plot(list(range(hour_avg_array.size)), eigvec[2])\n",
    "plt.suptitle('Categorical Plotting')\n",
    "plt.show()"
   ]
  },
  {
   "cell_type": "code",
   "execution_count": 61,
   "metadata": {
    "ExecuteTime": {
     "end_time": "2021-02-06T06:14:33.520456Z",
     "start_time": "2021-02-06T06:14:33.365077Z"
    }
   },
   "outputs": [
    {
     "name": "stdout",
     "output_type": "stream",
     "text": [
      "[('01,01,2005', 2328.17881068409), ('01,02,2005', 1913.861448674261), ('01,03,2005', 2761.5865578823573), ('01,04,2005', 2046.3959065239087), ('01,05,2005', 1911.0648289173969)]\n"
     ]
    }
   ],
   "source": [
    "rdd_MW_daily_array=df_grouped_MW.rdd.map(lambda row: (row['month']+','+row['day']+','+row['year'],row['day_consump']))\n",
    "#rdd_test_array=df_grouped_MW.rdd.map(lambda row: row['day_consump'][0])\n",
    "#np.dot(np.transpose(eigvec[:,0:2]),np.array(rdd_test.take(1)[0][1]))\n",
    "rdd_daily_coef=rdd_MW_daily_array.map(lambda row: (row[0],np.dot(np.array(row[1])-hour_avg_array,eigvec[:,0:2]))) \n",
    "rdd_daily_approx=rdd_daily_coef.map(lambda row: (row[0],hour_avg_array+np.dot(eigvec[:,0:2],row[1])))   \n",
    "rdd_daily_residual=rdd_MW_daily_array.map(lambda row: (row[0],LA.norm(hour_avg_array+ np.dot(eigvec[:,0:2],np.dot(np.array(row[1])-hour_avg_array,eigvec[:,0:2]))-np.array(row[1]))))\n",
    "print(rdd_daily_residual.take(5))\n",
    "                                                     \n",
    "  "
   ]
  },
  {
   "cell_type": "code",
   "execution_count": 52,
   "metadata": {
    "ExecuteTime": {
     "end_time": "2021-02-06T05:59:52.591178Z",
     "start_time": "2021-02-06T05:59:52.086921Z"
    }
   },
   "outputs": [
    {
     "data": {
      "image/png": "[encoded data removed]",
      "text/plain": [
       "<Figure size 1080x504 with 1 Axes>"
      ]
     },
     "metadata": {},
     "output_type": "display_data"
    }
   ],
   "source": [
    "plt.figure(figsize=(15,7))\n",
    "plt.plot(list(range(hour_avg_array.size)),hour_avg_array, label=\"Mean Sol\")\n",
    "plt.plot(list(range(hour_avg_array.size)),rdd_daily_approx.take(1)[0][1], label=\"2 PC sol\")\n",
    "plt.plot(list(range(hour_avg_array.size)),rdd_MW_daily_array.take(1)[0][1], label=\"actual sol\")\n",
    "plt.title('Avg MW used per hour')\n",
    "plt.ylabel('MW per hour')\n",
    "plt.xlabel('Hour')\n",
    "plt.xticks(list(range(hour_avg_array.size)),list(range(hour_avg_array.size)))\n",
    "plt.legend()\n",
    "plt.show()"
   ]
  },
  {
   "cell_type": "code",
   "execution_count": 54,
   "metadata": {
    "ExecuteTime": {
     "end_time": "2021-02-06T06:00:31.817924Z",
     "start_time": "2021-02-06T06:00:31.640524Z"
    }
   },
   "outputs": [
    {
     "ename": "Py4JJavaError",
     "evalue": "An error occurred while calling z:org.apache.spark.api.python.PythonRDD.runJob.\n: org.apache.spark.SparkException: Job aborted due to stage failure: Task 0 in stage 248.0 failed 1 times, most recent failure: Lost task 0.0 in stage 248.0 (TID 16385, localhost, executor driver): org.apache.spark.api.python.PythonException: Traceback (most recent call last):\n  File \"/usr/local/spark/python/lib/pyspark.zip/pyspark/worker.py\", line 229, in main\n    process()\n  File \"/usr/local/spark/python/lib/pyspark.zip/pyspark/worker.py\", line 224, in process\n    serializer.dump_stream(func(split_index, iterator), outfile)\n  File \"/usr/local/spark/python/lib/pyspark.zip/pyspark/serializers.py\", line 372, in dump_stream\n    vs = list(itertools.islice(iterator, batch))\n  File \"/usr/local/spark/python/pyspark/rdd.py\", line 1354, in takeUpToNumLeft\n    yield next(iterator)\n  File \"<ipython-input-46-e51d1228b247>\", line 6, in <lambda>\nTypeError: Required argument 'b' (pos 2) not found\n\n\tat org.apache.spark.api.python.BasePythonRunner$ReaderIterator.handlePythonException(PythonRunner.scala:298)\n\tat org.apache.spark.api.python.PythonRunner$$anon$1.read(PythonRunner.scala:438)\n\tat org.apache.spark.api.python.PythonRunner$$anon$1.read(PythonRunner.scala:421)\n\tat org.apache.spark.api.python.BasePythonRunner$ReaderIterator.hasNext(PythonRunner.scala:252)\n\tat org.apache.spark.InterruptibleIterator.hasNext(InterruptibleIterator.scala:37)\n\tat scala.collection.Iterator$class.foreach(Iterator.scala:893)\n\tat org.apache.spark.InterruptibleIterator.foreach(InterruptibleIterator.scala:28)\n\tat scala.collection.generic.Growable$class.$plus$plus$eq(Growable.scala:59)\n\tat scala.collection.mutable.ArrayBuffer.$plus$plus$eq(ArrayBuffer.scala:104)\n\tat scala.collection.mutable.ArrayBuffer.$plus$plus$eq(ArrayBuffer.scala:48)\n\tat scala.collection.TraversableOnce$class.to(TraversableOnce.scala:310)\n\tat org.apache.spark.InterruptibleIterator.to(InterruptibleIterator.scala:28)\n\tat scala.collection.TraversableOnce$class.toBuffer(TraversableOnce.scala:302)\n\tat org.apache.spark.InterruptibleIterator.toBuffer(InterruptibleIterator.scala:28)\n\tat scala.collection.TraversableOnce$class.toArray(TraversableOnce.scala:289)\n\tat org.apache.spark.InterruptibleIterator.toArray(InterruptibleIterator.scala:28)\n\tat org.apache.spark.api.python.PythonRDD$$anonfun$1.apply(PythonRDD.scala:141)\n\tat org.apache.spark.api.python.PythonRDD$$anonfun$1.apply(PythonRDD.scala:141)\n\tat org.apache.spark.SparkContext$$anonfun$runJob$5.apply(SparkContext.scala:2067)\n\tat org.apache.spark.SparkContext$$anonfun$runJob$5.apply(SparkContext.scala:2067)\n\tat org.apache.spark.scheduler.ResultTask.runTask(ResultTask.scala:87)\n\tat org.apache.spark.scheduler.Task.run(Task.scala:109)\n\tat org.apache.spark.executor.Executor$TaskRunner.run(Executor.scala:345)\n\tat java.util.concurrent.ThreadPoolExecutor.runWorker(ThreadPoolExecutor.java:1149)\n\tat java.util.concurrent.ThreadPoolExecutor$Worker.run(ThreadPoolExecutor.java:624)\n\tat java.lang.Thread.run(Thread.java:748)\n\nDriver stacktrace:\n\tat org.apache.spark.scheduler.DAGScheduler.org$apache$spark$scheduler$DAGScheduler$$failJobAndIndependentStages(DAGScheduler.scala:1599)\n\tat org.apache.spark.scheduler.DAGScheduler$$anonfun$abortStage$1.apply(DAGScheduler.scala:1587)\n\tat org.apache.spark.scheduler.DAGScheduler$$anonfun$abortStage$1.apply(DAGScheduler.scala:1586)\n\tat scala.collection.mutable.ResizableArray$class.foreach(ResizableArray.scala:59)\n\tat scala.collection.mutable.ArrayBuffer.foreach(ArrayBuffer.scala:48)\n\tat org.apache.spark.scheduler.DAGScheduler.abortStage(DAGScheduler.scala:1586)\n\tat org.apache.spark.scheduler.DAGScheduler$$anonfun$handleTaskSetFailed$1.apply(DAGScheduler.scala:831)\n\tat org.apache.spark.scheduler.DAGScheduler$$anonfun$handleTaskSetFailed$1.apply(DAGScheduler.scala:831)\n\tat scala.Option.foreach(Option.scala:257)\n\tat org.apache.spark.scheduler.DAGScheduler.handleTaskSetFailed(DAGScheduler.scala:831)\n\tat org.apache.spark.scheduler.DAGSchedulerEventProcessLoop.doOnReceive(DAGScheduler.scala:1820)\n\tat org.apache.spark.scheduler.DAGSchedulerEventProcessLoop.onReceive(DAGScheduler.scala:1769)\n\tat org.apache.spark.scheduler.DAGSchedulerEventProcessLoop.onReceive(DAGScheduler.scala:1758)\n\tat org.apache.spark.util.EventLoop$$anon$1.run(EventLoop.scala:48)\n\tat org.apache.spark.scheduler.DAGScheduler.runJob(DAGScheduler.scala:642)\n\tat org.apache.spark.SparkContext.runJob(SparkContext.scala:2027)\n\tat org.apache.spark.SparkContext.runJob(SparkContext.scala:2048)\n\tat org.apache.spark.SparkContext.runJob(SparkContext.scala:2067)\n\tat org.apache.spark.api.python.PythonRDD$.runJob(PythonRDD.scala:141)\n\tat org.apache.spark.api.python.PythonRDD.runJob(PythonRDD.scala)\n\tat sun.reflect.NativeMethodAccessorImpl.invoke0(Native Method)\n\tat sun.reflect.NativeMethodAccessorImpl.invoke(NativeMethodAccessorImpl.java:62)\n\tat sun.reflect.DelegatingMethodAccessorImpl.invoke(DelegatingMethodAccessorImpl.java:43)\n\tat java.lang.reflect.Method.invoke(Method.java:498)\n\tat py4j.reflection.MethodInvoker.invoke(MethodInvoker.java:244)\n\tat py4j.reflection.ReflectionEngine.invoke(ReflectionEngine.java:357)\n\tat py4j.Gateway.invoke(Gateway.java:282)\n\tat py4j.commands.AbstractCommand.invokeMethod(AbstractCommand.java:132)\n\tat py4j.commands.CallCommand.execute(CallCommand.java:79)\n\tat py4j.GatewayConnection.run(GatewayConnection.java:214)\n\tat java.lang.Thread.run(Thread.java:748)\nCaused by: org.apache.spark.api.python.PythonException: Traceback (most recent call last):\n  File \"/usr/local/spark/python/lib/pyspark.zip/pyspark/worker.py\", line 229, in main\n    process()\n  File \"/usr/local/spark/python/lib/pyspark.zip/pyspark/worker.py\", line 224, in process\n    serializer.dump_stream(func(split_index, iterator), outfile)\n  File \"/usr/local/spark/python/lib/pyspark.zip/pyspark/serializers.py\", line 372, in dump_stream\n    vs = list(itertools.islice(iterator, batch))\n  File \"/usr/local/spark/python/pyspark/rdd.py\", line 1354, in takeUpToNumLeft\n    yield next(iterator)\n  File \"<ipython-input-46-e51d1228b247>\", line 6, in <lambda>\nTypeError: Required argument 'b' (pos 2) not found\n\n\tat org.apache.spark.api.python.BasePythonRunner$ReaderIterator.handlePythonException(PythonRunner.scala:298)\n\tat org.apache.spark.api.python.PythonRunner$$anon$1.read(PythonRunner.scala:438)\n\tat org.apache.spark.api.python.PythonRunner$$anon$1.read(PythonRunner.scala:421)\n\tat org.apache.spark.api.python.BasePythonRunner$ReaderIterator.hasNext(PythonRunner.scala:252)\n\tat org.apache.spark.InterruptibleIterator.hasNext(InterruptibleIterator.scala:37)\n\tat scala.collection.Iterator$class.foreach(Iterator.scala:893)\n\tat org.apache.spark.InterruptibleIterator.foreach(InterruptibleIterator.scala:28)\n\tat scala.collection.generic.Growable$class.$plus$plus$eq(Growable.scala:59)\n\tat scala.collection.mutable.ArrayBuffer.$plus$plus$eq(ArrayBuffer.scala:104)\n\tat scala.collection.mutable.ArrayBuffer.$plus$plus$eq(ArrayBuffer.scala:48)\n\tat scala.collection.TraversableOnce$class.to(TraversableOnce.scala:310)\n\tat org.apache.spark.InterruptibleIterator.to(InterruptibleIterator.scala:28)\n\tat scala.collection.TraversableOnce$class.toBuffer(TraversableOnce.scala:302)\n\tat org.apache.spark.InterruptibleIterator.toBuffer(InterruptibleIterator.scala:28)\n\tat scala.collection.TraversableOnce$class.toArray(TraversableOnce.scala:289)\n\tat org.apache.spark.InterruptibleIterator.toArray(InterruptibleIterator.scala:28)\n\tat org.apache.spark.api.python.PythonRDD$$anonfun$1.apply(PythonRDD.scala:141)\n\tat org.apache.spark.api.python.PythonRDD$$anonfun$1.apply(PythonRDD.scala:141)\n\tat org.apache.spark.SparkContext$$anonfun$runJob$5.apply(SparkContext.scala:2067)\n\tat org.apache.spark.SparkContext$$anonfun$runJob$5.apply(SparkContext.scala:2067)\n\tat org.apache.spark.scheduler.ResultTask.runTask(ResultTask.scala:87)\n\tat org.apache.spark.scheduler.Task.run(Task.scala:109)\n\tat org.apache.spark.executor.Executor$TaskRunner.run(Executor.scala:345)\n\tat java.util.concurrent.ThreadPoolExecutor.runWorker(ThreadPoolExecutor.java:1149)\n\tat java.util.concurrent.ThreadPoolExecutor$Worker.run(ThreadPoolExecutor.java:624)\n\t... 1 more\n",
     "output_type": "error",
     "traceback": [
      "\u001b[0;31m---------------------------------------------------------------------------\u001b[0m",
      "\u001b[0;31mPy4JJavaError\u001b[0m                             Traceback (most recent call last)",
      "\u001b[0;32m<ipython-input-54-4c05f47c8b6a>\u001b[0m in \u001b[0;36m<module>\u001b[0;34m()\u001b[0m\n\u001b[0;32m----> 1\u001b[0;31m \u001b[0mrdd_daily_residual\u001b[0m\u001b[0;34m.\u001b[0m\u001b[0mtake\u001b[0m\u001b[0;34m(\u001b[0m\u001b[0;36m3\u001b[0m\u001b[0;34m)\u001b[0m\u001b[0;34m\u001b[0m\u001b[0m\n\u001b[0m",
      "\u001b[0;32m/usr/local/spark/python/pyspark/rdd.py\u001b[0m in \u001b[0;36mtake\u001b[0;34m(self, num)\u001b[0m\n\u001b[1;32m   1356\u001b[0m \u001b[0;34m\u001b[0m\u001b[0m\n\u001b[1;32m   1357\u001b[0m             \u001b[0mp\u001b[0m \u001b[0;34m=\u001b[0m \u001b[0mrange\u001b[0m\u001b[0;34m(\u001b[0m\u001b[0mpartsScanned\u001b[0m\u001b[0;34m,\u001b[0m \u001b[0mmin\u001b[0m\u001b[0;34m(\u001b[0m\u001b[0mpartsScanned\u001b[0m \u001b[0;34m+\u001b[0m \u001b[0mnumPartsToTry\u001b[0m\u001b[0;34m,\u001b[0m \u001b[0mtotalParts\u001b[0m\u001b[0;34m)\u001b[0m\u001b[0;34m)\u001b[0m\u001b[0;34m\u001b[0m\u001b[0m\n\u001b[0;32m-> 1358\u001b[0;31m             \u001b[0mres\u001b[0m \u001b[0;34m=\u001b[0m \u001b[0mself\u001b[0m\u001b[0;34m.\u001b[0m\u001b[0mcontext\u001b[0m\u001b[0;34m.\u001b[0m\u001b[0mrunJob\u001b[0m\u001b[0;34m(\u001b[0m\u001b[0mself\u001b[0m\u001b[0;34m,\u001b[0m \u001b[0mtakeUpToNumLeft\u001b[0m\u001b[0;34m,\u001b[0m \u001b[0mp\u001b[0m\u001b[0;34m)\u001b[0m\u001b[0;34m\u001b[0m\u001b[0m\n\u001b[0m\u001b[1;32m   1359\u001b[0m \u001b[0;34m\u001b[0m\u001b[0m\n\u001b[1;32m   1360\u001b[0m             \u001b[0mitems\u001b[0m \u001b[0;34m+=\u001b[0m \u001b[0mres\u001b[0m\u001b[0;34m\u001b[0m\u001b[0m\n",
      "\u001b[0;32m/usr/local/spark/python/pyspark/context.py\u001b[0m in \u001b[0;36mrunJob\u001b[0;34m(self, rdd, partitionFunc, partitions, allowLocal)\u001b[0m\n\u001b[1;32m    999\u001b[0m         \u001b[0;31m# SparkContext#runJob.\u001b[0m\u001b[0;34m\u001b[0m\u001b[0;34m\u001b[0m\u001b[0m\n\u001b[1;32m   1000\u001b[0m         \u001b[0mmappedRDD\u001b[0m \u001b[0;34m=\u001b[0m \u001b[0mrdd\u001b[0m\u001b[0;34m.\u001b[0m\u001b[0mmapPartitions\u001b[0m\u001b[0;34m(\u001b[0m\u001b[0mpartitionFunc\u001b[0m\u001b[0;34m)\u001b[0m\u001b[0;34m\u001b[0m\u001b[0m\n\u001b[0;32m-> 1001\u001b[0;31m         \u001b[0mport\u001b[0m \u001b[0;34m=\u001b[0m \u001b[0mself\u001b[0m\u001b[0;34m.\u001b[0m\u001b[0m_jvm\u001b[0m\u001b[0;34m.\u001b[0m\u001b[0mPythonRDD\u001b[0m\u001b[0;34m.\u001b[0m\u001b[0mrunJob\u001b[0m\u001b[0;34m(\u001b[0m\u001b[0mself\u001b[0m\u001b[0;34m.\u001b[0m\u001b[0m_jsc\u001b[0m\u001b[0;34m.\u001b[0m\u001b[0msc\u001b[0m\u001b[0;34m(\u001b[0m\u001b[0;34m)\u001b[0m\u001b[0;34m,\u001b[0m \u001b[0mmappedRDD\u001b[0m\u001b[0;34m.\u001b[0m\u001b[0m_jrdd\u001b[0m\u001b[0;34m,\u001b[0m \u001b[0mpartitions\u001b[0m\u001b[0;34m)\u001b[0m\u001b[0;34m\u001b[0m\u001b[0m\n\u001b[0m\u001b[1;32m   1002\u001b[0m         \u001b[0;32mreturn\u001b[0m \u001b[0mlist\u001b[0m\u001b[0;34m(\u001b[0m\u001b[0m_load_from_socket\u001b[0m\u001b[0;34m(\u001b[0m\u001b[0mport\u001b[0m\u001b[0;34m,\u001b[0m \u001b[0mmappedRDD\u001b[0m\u001b[0;34m.\u001b[0m\u001b[0m_jrdd_deserializer\u001b[0m\u001b[0;34m)\u001b[0m\u001b[0;34m)\u001b[0m\u001b[0;34m\u001b[0m\u001b[0m\n\u001b[1;32m   1003\u001b[0m \u001b[0;34m\u001b[0m\u001b[0m\n",
      "\u001b[0;32m/usr/local/spark/python/lib/py4j-0.10.6-src.zip/py4j/java_gateway.py\u001b[0m in \u001b[0;36m__call__\u001b[0;34m(self, *args)\u001b[0m\n\u001b[1;32m   1158\u001b[0m         \u001b[0manswer\u001b[0m \u001b[0;34m=\u001b[0m \u001b[0mself\u001b[0m\u001b[0;34m.\u001b[0m\u001b[0mgateway_client\u001b[0m\u001b[0;34m.\u001b[0m\u001b[0msend_command\u001b[0m\u001b[0;34m(\u001b[0m\u001b[0mcommand\u001b[0m\u001b[0;34m)\u001b[0m\u001b[0;34m\u001b[0m\u001b[0m\n\u001b[1;32m   1159\u001b[0m         return_value = get_return_value(\n\u001b[0;32m-> 1160\u001b[0;31m             answer, self.gateway_client, self.target_id, self.name)\n\u001b[0m\u001b[1;32m   1161\u001b[0m \u001b[0;34m\u001b[0m\u001b[0m\n\u001b[1;32m   1162\u001b[0m         \u001b[0;32mfor\u001b[0m \u001b[0mtemp_arg\u001b[0m \u001b[0;32min\u001b[0m \u001b[0mtemp_args\u001b[0m\u001b[0;34m:\u001b[0m\u001b[0;34m\u001b[0m\u001b[0m\n",
      "\u001b[0;32m/usr/local/spark/python/pyspark/sql/utils.py\u001b[0m in \u001b[0;36mdeco\u001b[0;34m(*a, **kw)\u001b[0m\n\u001b[1;32m     61\u001b[0m     \u001b[0;32mdef\u001b[0m \u001b[0mdeco\u001b[0m\u001b[0;34m(\u001b[0m\u001b[0;34m*\u001b[0m\u001b[0ma\u001b[0m\u001b[0;34m,\u001b[0m \u001b[0;34m**\u001b[0m\u001b[0mkw\u001b[0m\u001b[0;34m)\u001b[0m\u001b[0;34m:\u001b[0m\u001b[0;34m\u001b[0m\u001b[0m\n\u001b[1;32m     62\u001b[0m         \u001b[0;32mtry\u001b[0m\u001b[0;34m:\u001b[0m\u001b[0;34m\u001b[0m\u001b[0m\n\u001b[0;32m---> 63\u001b[0;31m             \u001b[0;32mreturn\u001b[0m \u001b[0mf\u001b[0m\u001b[0;34m(\u001b[0m\u001b[0;34m*\u001b[0m\u001b[0ma\u001b[0m\u001b[0;34m,\u001b[0m \u001b[0;34m**\u001b[0m\u001b[0mkw\u001b[0m\u001b[0;34m)\u001b[0m\u001b[0;34m\u001b[0m\u001b[0m\n\u001b[0m\u001b[1;32m     64\u001b[0m         \u001b[0;32mexcept\u001b[0m \u001b[0mpy4j\u001b[0m\u001b[0;34m.\u001b[0m\u001b[0mprotocol\u001b[0m\u001b[0;34m.\u001b[0m\u001b[0mPy4JJavaError\u001b[0m \u001b[0;32mas\u001b[0m \u001b[0me\u001b[0m\u001b[0;34m:\u001b[0m\u001b[0;34m\u001b[0m\u001b[0m\n\u001b[1;32m     65\u001b[0m             \u001b[0ms\u001b[0m \u001b[0;34m=\u001b[0m \u001b[0me\u001b[0m\u001b[0;34m.\u001b[0m\u001b[0mjava_exception\u001b[0m\u001b[0;34m.\u001b[0m\u001b[0mtoString\u001b[0m\u001b[0;34m(\u001b[0m\u001b[0;34m)\u001b[0m\u001b[0;34m\u001b[0m\u001b[0m\n",
      "\u001b[0;32m/usr/local/spark/python/lib/py4j-0.10.6-src.zip/py4j/protocol.py\u001b[0m in \u001b[0;36mget_return_value\u001b[0;34m(answer, gateway_client, target_id, name)\u001b[0m\n\u001b[1;32m    318\u001b[0m                 raise Py4JJavaError(\n\u001b[1;32m    319\u001b[0m                     \u001b[0;34m\"An error occurred while calling {0}{1}{2}.\\n\"\u001b[0m\u001b[0;34m.\u001b[0m\u001b[0;34m\u001b[0m\u001b[0m\n\u001b[0;32m--> 320\u001b[0;31m                     format(target_id, \".\", name), value)\n\u001b[0m\u001b[1;32m    321\u001b[0m             \u001b[0;32melse\u001b[0m\u001b[0;34m:\u001b[0m\u001b[0;34m\u001b[0m\u001b[0m\n\u001b[1;32m    322\u001b[0m                 raise Py4JError(\n",
      "\u001b[0;31mPy4JJavaError\u001b[0m: An error occurred while calling z:org.apache.spark.api.python.PythonRDD.runJob.\n: org.apache.spark.SparkException: Job aborted due to stage failure: Task 0 in stage 248.0 failed 1 times, most recent failure: Lost task 0.0 in stage 248.0 (TID 16385, localhost, executor driver): org.apache.spark.api.python.PythonException: Traceback (most recent call last):\n  File \"/usr/local/spark/python/lib/pyspark.zip/pyspark/worker.py\", line 229, in main\n    process()\n  File \"/usr/local/spark/python/lib/pyspark.zip/pyspark/worker.py\", line 224, in process\n    serializer.dump_stream(func(split_index, iterator), outfile)\n  File \"/usr/local/spark/python/lib/pyspark.zip/pyspark/serializers.py\", line 372, in dump_stream\n    vs = list(itertools.islice(iterator, batch))\n  File \"/usr/local/spark/python/pyspark/rdd.py\", line 1354, in takeUpToNumLeft\n    yield next(iterator)\n  File \"<ipython-input-46-e51d1228b247>\", line 6, in <lambda>\nTypeError: Required argument 'b' (pos 2) not found\n\n\tat org.apache.spark.api.python.BasePythonRunner$ReaderIterator.handlePythonException(PythonRunner.scala:298)\n\tat org.apache.spark.api.python.PythonRunner$$anon$1.read(PythonRunner.scala:438)\n\tat org.apache.spark.api.python.PythonRunner$$anon$1.read(PythonRunner.scala:421)\n\tat org.apache.spark.api.python.BasePythonRunner$ReaderIterator.hasNext(PythonRunner.scala:252)\n\tat org.apache.spark.InterruptibleIterator.hasNext(InterruptibleIterator.scala:37)\n\tat scala.collection.Iterator$class.foreach(Iterator.scala:893)\n\tat org.apache.spark.InterruptibleIterator.foreach(InterruptibleIterator.scala:28)\n\tat scala.collection.generic.Growable$class.$plus$plus$eq(Growable.scala:59)\n\tat scala.collection.mutable.ArrayBuffer.$plus$plus$eq(ArrayBuffer.scala:104)\n\tat scala.collection.mutable.ArrayBuffer.$plus$plus$eq(ArrayBuffer.scala:48)\n\tat scala.collection.TraversableOnce$class.to(TraversableOnce.scala:310)\n\tat org.apache.spark.InterruptibleIterator.to(InterruptibleIterator.scala:28)\n\tat scala.collection.TraversableOnce$class.toBuffer(TraversableOnce.scala:302)\n\tat org.apache.spark.InterruptibleIterator.toBuffer(InterruptibleIterator.scala:28)\n\tat scala.collection.TraversableOnce$class.toArray(TraversableOnce.scala:289)\n\tat org.apache.spark.InterruptibleIterator.toArray(InterruptibleIterator.scala:28)\n\tat org.apache.spark.api.python.PythonRDD$$anonfun$1.apply(PythonRDD.scala:141)\n\tat org.apache.spark.api.python.PythonRDD$$anonfun$1.apply(PythonRDD.scala:141)\n\tat org.apache.spark.SparkContext$$anonfun$runJob$5.apply(SparkContext.scala:2067)\n\tat org.apache.spark.SparkContext$$anonfun$runJob$5.apply(SparkContext.scala:2067)\n\tat org.apache.spark.scheduler.ResultTask.runTask(ResultTask.scala:87)\n\tat org.apache.spark.scheduler.Task.run(Task.scala:109)\n\tat org.apache.spark.executor.Executor$TaskRunner.run(Executor.scala:345)\n\tat java.util.concurrent.ThreadPoolExecutor.runWorker(ThreadPoolExecutor.java:1149)\n\tat java.util.concurrent.ThreadPoolExecutor$Worker.run(ThreadPoolExecutor.java:624)\n\tat java.lang.Thread.run(Thread.java:748)\n\nDriver stacktrace:\n\tat org.apache.spark.scheduler.DAGScheduler.org$apache$spark$scheduler$DAGScheduler$$failJobAndIndependentStages(DAGScheduler.scala:1599)\n\tat org.apache.spark.scheduler.DAGScheduler$$anonfun$abortStage$1.apply(DAGScheduler.scala:1587)\n\tat org.apache.spark.scheduler.DAGScheduler$$anonfun$abortStage$1.apply(DAGScheduler.scala:1586)\n\tat scala.collection.mutable.ResizableArray$class.foreach(ResizableArray.scala:59)\n\tat scala.collection.mutable.ArrayBuffer.foreach(ArrayBuffer.scala:48)\n\tat org.apache.spark.scheduler.DAGScheduler.abortStage(DAGScheduler.scala:1586)\n\tat org.apache.spark.scheduler.DAGScheduler$$anonfun$handleTaskSetFailed$1.apply(DAGScheduler.scala:831)\n\tat org.apache.spark.scheduler.DAGScheduler$$anonfun$handleTaskSetFailed$1.apply(DAGScheduler.scala:831)\n\tat scala.Option.foreach(Option.scala:257)\n\tat org.apache.spark.scheduler.DAGScheduler.handleTaskSetFailed(DAGScheduler.scala:831)\n\tat org.apache.spark.scheduler.DAGSchedulerEventProcessLoop.doOnReceive(DAGScheduler.scala:1820)\n\tat org.apache.spark.scheduler.DAGSchedulerEventProcessLoop.onReceive(DAGScheduler.scala:1769)\n\tat org.apache.spark.scheduler.DAGSchedulerEventProcessLoop.onReceive(DAGScheduler.scala:1758)\n\tat org.apache.spark.util.EventLoop$$anon$1.run(EventLoop.scala:48)\n\tat org.apache.spark.scheduler.DAGScheduler.runJob(DAGScheduler.scala:642)\n\tat org.apache.spark.SparkContext.runJob(SparkContext.scala:2027)\n\tat org.apache.spark.SparkContext.runJob(SparkContext.scala:2048)\n\tat org.apache.spark.SparkContext.runJob(SparkContext.scala:2067)\n\tat org.apache.spark.api.python.PythonRDD$.runJob(PythonRDD.scala:141)\n\tat org.apache.spark.api.python.PythonRDD.runJob(PythonRDD.scala)\n\tat sun.reflect.NativeMethodAccessorImpl.invoke0(Native Method)\n\tat sun.reflect.NativeMethodAccessorImpl.invoke(NativeMethodAccessorImpl.java:62)\n\tat sun.reflect.DelegatingMethodAccessorImpl.invoke(DelegatingMethodAccessorImpl.java:43)\n\tat java.lang.reflect.Method.invoke(Method.java:498)\n\tat py4j.reflection.MethodInvoker.invoke(MethodInvoker.java:244)\n\tat py4j.reflection.ReflectionEngine.invoke(ReflectionEngine.java:357)\n\tat py4j.Gateway.invoke(Gateway.java:282)\n\tat py4j.commands.AbstractCommand.invokeMethod(AbstractCommand.java:132)\n\tat py4j.commands.CallCommand.execute(CallCommand.java:79)\n\tat py4j.GatewayConnection.run(GatewayConnection.java:214)\n\tat java.lang.Thread.run(Thread.java:748)\nCaused by: org.apache.spark.api.python.PythonException: Traceback (most recent call last):\n  File \"/usr/local/spark/python/lib/pyspark.zip/pyspark/worker.py\", line 229, in main\n    process()\n  File \"/usr/local/spark/python/lib/pyspark.zip/pyspark/worker.py\", line 224, in process\n    serializer.dump_stream(func(split_index, iterator), outfile)\n  File \"/usr/local/spark/python/lib/pyspark.zip/pyspark/serializers.py\", line 372, in dump_stream\n    vs = list(itertools.islice(iterator, batch))\n  File \"/usr/local/spark/python/pyspark/rdd.py\", line 1354, in takeUpToNumLeft\n    yield next(iterator)\n  File \"<ipython-input-46-e51d1228b247>\", line 6, in <lambda>\nTypeError: Required argument 'b' (pos 2) not found\n\n\tat org.apache.spark.api.python.BasePythonRunner$ReaderIterator.handlePythonException(PythonRunner.scala:298)\n\tat org.apache.spark.api.python.PythonRunner$$anon$1.read(PythonRunner.scala:438)\n\tat org.apache.spark.api.python.PythonRunner$$anon$1.read(PythonRunner.scala:421)\n\tat org.apache.spark.api.python.BasePythonRunner$ReaderIterator.hasNext(PythonRunner.scala:252)\n\tat org.apache.spark.InterruptibleIterator.hasNext(InterruptibleIterator.scala:37)\n\tat scala.collection.Iterator$class.foreach(Iterator.scala:893)\n\tat org.apache.spark.InterruptibleIterator.foreach(InterruptibleIterator.scala:28)\n\tat scala.collection.generic.Growable$class.$plus$plus$eq(Growable.scala:59)\n\tat scala.collection.mutable.ArrayBuffer.$plus$plus$eq(ArrayBuffer.scala:104)\n\tat scala.collection.mutable.ArrayBuffer.$plus$plus$eq(ArrayBuffer.scala:48)\n\tat scala.collection.TraversableOnce$class.to(TraversableOnce.scala:310)\n\tat org.apache.spark.InterruptibleIterator.to(InterruptibleIterator.scala:28)\n\tat scala.collection.TraversableOnce$class.toBuffer(TraversableOnce.scala:302)\n\tat org.apache.spark.InterruptibleIterator.toBuffer(InterruptibleIterator.scala:28)\n\tat scala.collection.TraversableOnce$class.toArray(TraversableOnce.scala:289)\n\tat org.apache.spark.InterruptibleIterator.toArray(InterruptibleIterator.scala:28)\n\tat org.apache.spark.api.python.PythonRDD$$anonfun$1.apply(PythonRDD.scala:141)\n\tat org.apache.spark.api.python.PythonRDD$$anonfun$1.apply(PythonRDD.scala:141)\n\tat org.apache.spark.SparkContext$$anonfun$runJob$5.apply(SparkContext.scala:2067)\n\tat org.apache.spark.SparkContext$$anonfun$runJob$5.apply(SparkContext.scala:2067)\n\tat org.apache.spark.scheduler.ResultTask.runTask(ResultTask.scala:87)\n\tat org.apache.spark.scheduler.Task.run(Task.scala:109)\n\tat org.apache.spark.executor.Executor$TaskRunner.run(Executor.scala:345)\n\tat java.util.concurrent.ThreadPoolExecutor.runWorker(ThreadPoolExecutor.java:1149)\n\tat java.util.concurrent.ThreadPoolExecutor$Worker.run(ThreadPoolExecutor.java:624)\n\t... 1 more\n"
     ]
    }
   ],
   "source": [
    "rdd_daily_residual.take(3)"
   ]
  },
  {
   "cell_type": "code",
   "execution_count": null,
   "metadata": {},
   "outputs": [],
   "source": []
  }
 ],
 "metadata": {
  "kernelspec": {
   "display_name": "Python 3",
   "language": "python",
   "name": "python3"
  },
  "language_info": {
   "codemirror_mode": {
    "name": "ipython",
    "version": 3
   },
   "file_extension": ".py",
   "mimetype": "text/x-python",
   "name": "python",
   "nbconvert_exporter": "python",
   "pygments_lexer": "ipython3",
   "version": "3.6.5"
  },
  "toc": {
   "base_numbering": 1,
   "nav_menu": {},
   "number_sections": true,
   "sideBar": true,
   "skip_h1_title": false,
   "title_cell": "Table of Contents",
   "title_sidebar": "Contents",
   "toc_cell": false,
   "toc_position": {},
   "toc_section_display": true,
   "toc_window_display": false
  },
  "varInspector": {
   "cols": {
    "lenName": 16,
    "lenType": 16,
    "lenVar": 40
   },
   "kernels_config": {
    "python": {
     "delete_cmd_postfix": "",
     "delete_cmd_prefix": "del ",
     "library": "var_list.py",
     "varRefreshCmd": "print(var_dic_list())"
    },
    "r": {
     "delete_cmd_postfix": ") ",
     "delete_cmd_prefix": "rm(",
     "library": "var_list.r",
     "varRefreshCmd": "cat(var_dic_list()) "
    }
   },
   "types_to_exclude": [
    "module",
    "function",
    "builtin_function_or_method",
    "instance",
    "_Feature"
   ],
   "window_display": false
  }
 },
 "nbformat": 4,
 "nbformat_minor": 2
}
