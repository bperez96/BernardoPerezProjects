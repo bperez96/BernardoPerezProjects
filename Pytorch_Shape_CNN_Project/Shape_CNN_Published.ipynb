{
 "cells": [
  {
   "cell_type": "markdown",
   "metadata": {},
   "source": [
    "# Convolutional Neural Network for Shape Classification"
   ]
  },
  {
   "cell_type": "code",
   "execution_count": 1,
   "metadata": {},
   "outputs": [],
   "source": [
    "import torch \n",
    "import torch.nn as nn\n",
    "import matplotlib.pylab as plt\n",
    "from torch.utils.data import Dataset, DataLoader"
   ]
  },
  {
   "cell_type": "markdown",
   "metadata": {},
   "source": [
    "<font size=\"4\">Import necessary libraries for tensor manipulation, neural network construction, and plotting. </font>"
   ]
  },
  {
   "cell_type": "code",
   "execution_count": 2,
   "metadata": {},
   "outputs": [],
   "source": [
    "train_img_list = torch.load('train_img__list.pt')\n",
    "train_label_list = torch.load('train_label_list.pt')\n",
    "test_img_list = torch.load('test_img_list.pt')\n",
    "test_label_list = torch.load('test_label_list.pt')"
   ]
  },
  {
   "cell_type": "markdown",
   "metadata": {},
   "source": [
    "<font size=\"4\">Import torch tensors corresponding to the images and labels in both test and training sets.</font>"
   ]
  },
  {
   "cell_type": "code",
   "execution_count": 3,
   "metadata": {},
   "outputs": [
    {
     "data": {
      "image/png": "[encoded data removed]",
      "text/plain": [
       "<Figure size 1080x1080 with 4 Axes>"
      ]
     },
     "metadata": {
      "needs_background": "light"
     },
     "output_type": "display_data"
    }
   ],
   "source": [
    "fig, axs = plt.subplots(1, 4, figsize=(15,15))\n",
    "axs[0].imshow(train_img_list[0].permute(1, 2, 0) )\n",
    "axs[1].imshow(train_img_list[3000].permute(1, 2, 0) )\n",
    "axs[2].imshow(train_img_list[6000].permute(1, 2, 0) )\n",
    "axs[3].imshow(train_img_list[9000].permute(1, 2, 0) )\n",
    "plt.show()\n"
   ]
  },
  {
   "cell_type": "markdown",
   "metadata": {},
   "source": [
    "<font size=\"4\">Above I have plotted examples of the four shapes to classify in this code. (circle, square, star, triangle)\n",
    "Images are formed by a grid of 25 by 25 grayscale pixels.</font>"
   ]
  },
  {
   "cell_type": "code",
   "execution_count": 4,
   "metadata": {},
   "outputs": [],
   "source": [
    "class Dataset(Dataset):\n",
    "\n",
    "    # Constructor\n",
    "    def __init__(self, passed_labels, passed_img_list,  transform=None):  \n",
    "        self.labels = passed_labels\n",
    "        self.img_data = passed_img_list\n",
    "        self.len = len(self.labels)\n",
    "    \n",
    "    #get method returning sample    \n",
    "    def __getitem__(self, idx):\n",
    "        call_image = self.img_data[idx]\n",
    "        call_label = self.labels[idx]\n",
    "        return call_image, call_label\n",
    "   \n",
    "    def __len__(self):\n",
    "        return self.len"
   ]
  },
  {
   "cell_type": "markdown",
   "metadata": {},
   "source": [
    "<font size=\"4\">The dataset class is introduced above; this class will take in images and labels as inputs for the dataset.\n",
    "The class is modified to return a sample image tensor and sample label when an index is called.\n",
    "In addition, this returns the length of the dataset (the number of samples in the dataset).</font>"
   ]
  },
  {
   "cell_type": "code",
   "execution_count": 5,
   "metadata": {},
   "outputs": [],
   "source": [
    "training_dataset = Dataset( train_label_list, train_img_list)\n",
    "test_dataset = Dataset( test_label_list, test_img_list)"
   ]
  },
  {
   "cell_type": "markdown",
   "metadata": {},
   "source": [
    "<font size=\"4\">Create datasets for training and testing(validation).</font>"
   ]
  },
  {
   "cell_type": "code",
   "execution_count": 6,
   "metadata": {},
   "outputs": [],
   "source": [
    "def conv_output_shape(h_w, kernel_size=1, stride=1, pad=0, dilation=1):\n",
    "    from math import floor\n",
    "    if type(kernel_size) is not tuple:\n",
    "        kernel_size = (kernel_size, kernel_size)\n",
    "    h = floor( ((h_w[0] + (2 * pad) - ( dilation * (kernel_size[0] - 1) ) - 1 )/ stride) + 1)\n",
    "    w = floor( ((h_w[1] + (2 * pad) - ( dilation * (kernel_size[1] - 1) ) - 1 )/ stride) + 1)\n",
    "    return h, w"
   ]
  },
  {
   "cell_type": "markdown",
   "metadata": {},
   "source": [
    "<font size=\"4\">The method above will compute the output of a convolution. This will be used to compute the output of the CNN. </font>"
   ]
  },
  {
   "cell_type": "code",
   "execution_count": 7,
   "metadata": {},
   "outputs": [
    {
     "name": "stdout",
     "output_type": "stream",
     "text": [
      "19 19\n"
     ]
    }
   ],
   "source": [
    "#the first line below computes the output of a convolution with a 5 by 5 kernel, with one zero edge padding and stride of 1.\n",
    "#the second line below computes the output of a maxpooling operation with a kernel size of 2, and stride of 1.\n",
    "h1,w1 = conv_output_shape([25,25],5,1,1)\n",
    "h1_final, w1_final = conv_output_shape([h1,w1],2,1,0)\n",
    "\n",
    "#Given the output of the convolution above we repeat this is a second layer.\n",
    "h2,w2 = conv_output_shape([h1_final, w1_final],5,1,1)\n",
    "h2_final, w2_final = conv_output_shape([h2,w2],2,1,0)\n",
    "\n",
    "print(h2_final, w2_final)"
   ]
  },
  {
   "cell_type": "markdown",
   "metadata": {},
   "source": [
    "<font size=\"4\">The lines above compute the output of a proposed network with two convolutions. This helps determine the input size fed into a fully connected layer that computes the output.</font>"
   ]
  },
  {
   "cell_type": "code",
   "execution_count": 8,
   "metadata": {},
   "outputs": [],
   "source": [
    "class CNN(nn.Module):\n",
    "    def __init__(self,out_1=2,out_2=1, batch_norm=False, kern_size=5, out_size=19, init_weight=False):\n",
    "        #inherit from nn.Module\n",
    "        super(CNN,self).__init__()\n",
    "        \n",
    "        self.batch_n = batch_norm\n",
    "        self.weight_init = init_weight\n",
    "        self.kernal_dim = kern_size\n",
    "        self.output_dim = out_size\n",
    "        \n",
    "        #first Convolutional layers \n",
    "        self.cnn1 = nn.Conv2d(in_channels=1,out_channels=out_1,kernel_size=self.kernal_dim,stride=1,padding=1)\n",
    "        if  self.weight_init == True:  \n",
    "            torch.nn.init.kaiming_uniform_(self.cnn1.weight, nonlinearity='relu')\n",
    "        if self.batch_n == True:\n",
    "            self.conv1_bn = nn.BatchNorm2d(out_1)\n",
    "        self.maxpool1 = nn.MaxPool2d(kernel_size=2 ,stride=1)\n",
    "        \n",
    "        #second Convolutional layers\n",
    "        self.cnn2 = nn.Conv2d(in_channels=16,out_channels=out_2,kernel_size=self.kernal_dim,stride=1,padding=1)\n",
    "        if  self.weight_init == True:   \n",
    "            torch.nn.init.kaiming_uniform_(self.cnn2.weight, nonlinearity='relu')\n",
    "        if self.batch_n == True:\n",
    "            self.conv2_bn = nn.BatchNorm2d(out_2)\n",
    "        self.maxpool2 = nn.MaxPool2d(kernel_size=2 ,stride=1)\n",
    "        \n",
    "        ##should be 19 by 19\n",
    "        #fully connected layer \n",
    "        self.fc1 = nn.Linear(out_2*self.output_dim*self.output_dim ,4)\n",
    "        if  self.weight_init == True:  \n",
    "            torch.nn.init.kaiming_uniform_(self.fc1.weight, nonlinearity='relu')\n",
    "        if self.batch_n == True:\n",
    "            self.bn_fc1 = nn.BatchNorm1d(4)\n",
    "        \n",
    "    def forward(self,x):       \n",
    "        #first Convolutional layers\n",
    "        x = self.cnn1(x)\n",
    "        #apply corresponding batch normalization \n",
    "        if self.batch_n == True:\n",
    "            x = self.conv1_bn(x)\n",
    "        #activation function \n",
    "        x = torch.relu(x)\n",
    "        #max pooling \n",
    "        x = self.maxpool1(x)\n",
    "        \n",
    "        #second Convolutional layers\n",
    "        x = self.cnn2(x)\n",
    "        if self.batch_n == True:\n",
    "            x = self.conv2_bn(x)\n",
    "        x = torch.relu(x)\n",
    "        x = self.maxpool2(x) \n",
    "        \n",
    "        #flatten output \n",
    "        x = x.view(x.size(0),-1)\n",
    "        #fully connected layer\n",
    "        x = self.fc1(x)\n",
    "        if self.batch_n == True:    \n",
    "            x = self.bn_fc1(x)\n",
    "        \n",
    "        return x\n",
    "    "
   ]
  },
  {
   "cell_type": "markdown",
   "metadata": {},
   "source": [
    "<font size=\"4\"> Above I created a class for a particular neural network structure. The class takes an image tensor as input which is manipulated by two hidden convolutional layers and a fully connected layer to output a value for each of our four shape classes. \n",
    "\n",
    "The input is manipulated by a kernel convolution, followed by batch normalization (if the user desires), application of a ReLu activation function and max pooling. This is repeated for a second layer. The output is flatten and transformed by a fully connected layer and another batch normalization to obtain the final output.  </font>"
   ]
  },
  {
   "cell_type": "code",
   "execution_count": 9,
   "metadata": {},
   "outputs": [],
   "source": [
    "model = CNN(16,32, True, 5, 19, True)\n",
    "criterion = nn.CrossEntropyLoss()\n",
    "learning_rate = 0.1\n",
    "optimizer = torch.optim.SGD(model.parameters(), lr=learning_rate)"
   ]
  },
  {
   "cell_type": "markdown",
   "metadata": {},
   "source": [
    "<font size=\"4\">The CNN model is initialized with the selected number of output channels after each layer. Cross entropy is selected as the loss function used for training. I selected to use stochastic gradient descent and the corresponding learning rate for training/minimization. </font>"
   ]
  },
  {
   "cell_type": "code",
   "execution_count": 10,
   "metadata": {},
   "outputs": [],
   "source": [
    "train_loader = torch.utils.data.DataLoader(dataset=training_dataset,batch_size=1500)\n",
    "validation_loader = torch.utils.data.DataLoader(dataset=test_dataset,batch_size=1000)"
   ]
  },
  {
   "cell_type": "markdown",
   "metadata": {},
   "source": [
    "<font size=\"4\">Dataloader objects are formed to create iterable batches from the datasets formed.</font>"
   ]
  },
  {
   "cell_type": "code",
   "execution_count": 11,
   "metadata": {
    "scrolled": true
   },
   "outputs": [],
   "source": [
    "def train_model(train_dataloader, validation_dataloader, CNN_model, optim_method):\n",
    "    n_epochs = 10\n",
    "    cost_list = []\n",
    "    accuracy_list = []\n",
    "    N_test = len(test_dataset)\n",
    "\n",
    "    for epoch in range(n_epochs):\n",
    "        cost = 0  \n",
    "        counter = 0\n",
    "        correct = 0\n",
    "\n",
    "        #compute test data loss and validation accuracy for initialized model without training\n",
    "        if epoch==0:\n",
    "            for x, y in train_dataloader:\n",
    "                #eval mode is activated to use averaged batch normalization values for final evalution (not training)\n",
    "                CNN_model.eval()\n",
    "                #make a prediction \n",
    "                z = CNN_model(x)\n",
    "                # calculate loss \n",
    "                loss = criterion(z,y)\n",
    "                cost+=loss.item()\n",
    "            cost_list.append(cost)\n",
    "            for x_test, y_test in validation_dataloader:\n",
    "                z = CNN_model(x_test)\n",
    "                _,yhat = torch.max(z.data,1)\n",
    "                correct+=(yhat==y_test).sum().item()\n",
    "            accuracy = correct/N_test\n",
    "            accuracy_list.append(accuracy)\n",
    "            cost=0\n",
    "            correct=0\n",
    "\n",
    "        for x, y in train_dataloader:\n",
    "            #train mode activated to compute batch normalization for the particular batch\n",
    "            CNN_model.train()\n",
    "            counter = counter+1\n",
    "            if counter%2 == 0:\n",
    "                print('On epoch: ',epoch,' having trained: ',counter,' number of batches.')\n",
    "            #clear gradient \n",
    "            optim_method.zero_grad()\n",
    "            #make a prediction \n",
    "            z = CNN_model(x)\n",
    "            # calculate loss \n",
    "            loss = criterion(z,y)\n",
    "            # calculate gradients of parameters \n",
    "            loss.backward()\n",
    "            # update parameters \n",
    "            optim_method.step()\n",
    "            cost+=loss.item()\n",
    "        cost_list.append(cost)\n",
    "        print('Done with epoch: ', epoch, ' current cost:', cost)\n",
    "\n",
    "\n",
    "        #perform a prediction on the validation  data  \n",
    "        for x_test, y_test in validation_dataloader:\n",
    "            CNN_model.eval()\n",
    "            z = CNN_model(x_test)\n",
    "            _,yhat = torch.max(z.data,1)\n",
    "            correct+=(yhat==y_test).sum().item()\n",
    "        accuracy = correct/N_test\n",
    "        accuracy_list.append(accuracy)\n",
    "    return accuracy_list, cost_list"
   ]
  },
  {
   "cell_type": "markdown",
   "metadata": {},
   "source": [
    "<font size=\"4\">The method above iterates through the training process. The loss is recorded for training data and accuracy is recorded for the validation data as the model is updated.</font>"
   ]
  },
  {
   "cell_type": "code",
   "execution_count": 12,
   "metadata": {},
   "outputs": [
    {
     "name": "stderr",
     "output_type": "stream",
     "text": [
      "C:\\Users\\15125\\anaconda3\\lib\\site-packages\\torch\\autograd\\__init__.py:130: UserWarning: CUDA initialization: Found no NVIDIA driver on your system. Please check that you have an NVIDIA GPU and installed a driver from http://www.nvidia.com/Download/index.aspx (Triggered internally at  ..\\c10\\cuda\\CUDAFunctions.cpp:100.)\n",
      "  Variable._execution_engine.run_backward(\n"
     ]
    },
    {
     "name": "stdout",
     "output_type": "stream",
     "text": [
      "On epoch:  0  having trained:  2  number of batches.\n",
      "On epoch:  0  having trained:  4  number of batches.\n",
      "On epoch:  0  having trained:  6  number of batches.\n",
      "Done with epoch:  0  current cost: 11.376972794532776\n",
      "On epoch:  1  having trained:  2  number of batches.\n",
      "On epoch:  1  having trained:  4  number of batches.\n",
      "On epoch:  1  having trained:  6  number of batches.\n",
      "Done with epoch:  1  current cost: 9.756334722042084\n",
      "On epoch:  2  having trained:  2  number of batches.\n",
      "On epoch:  2  having trained:  4  number of batches.\n",
      "On epoch:  2  having trained:  6  number of batches.\n",
      "Done with epoch:  2  current cost: 9.263681650161743\n",
      "On epoch:  3  having trained:  2  number of batches.\n",
      "On epoch:  3  having trained:  4  number of batches.\n",
      "On epoch:  3  having trained:  6  number of batches.\n",
      "Done with epoch:  3  current cost: 8.961784839630127\n",
      "On epoch:  4  having trained:  2  number of batches.\n",
      "On epoch:  4  having trained:  4  number of batches.\n",
      "On epoch:  4  having trained:  6  number of batches.\n",
      "Done with epoch:  4  current cost: 8.758051633834839\n",
      "On epoch:  5  having trained:  2  number of batches.\n",
      "On epoch:  5  having trained:  4  number of batches.\n",
      "On epoch:  5  having trained:  6  number of batches.\n",
      "Done with epoch:  5  current cost: 8.587062239646912\n",
      "On epoch:  6  having trained:  2  number of batches.\n",
      "On epoch:  6  having trained:  4  number of batches.\n",
      "On epoch:  6  having trained:  6  number of batches.\n",
      "Done with epoch:  6  current cost: 8.439440250396729\n",
      "On epoch:  7  having trained:  2  number of batches.\n",
      "On epoch:  7  having trained:  4  number of batches.\n",
      "On epoch:  7  having trained:  6  number of batches.\n",
      "Done with epoch:  7  current cost: 8.337368369102478\n",
      "On epoch:  8  having trained:  2  number of batches.\n",
      "On epoch:  8  having trained:  4  number of batches.\n",
      "On epoch:  8  having trained:  6  number of batches.\n",
      "Done with epoch:  8  current cost: 8.265458941459656\n",
      "On epoch:  9  having trained:  2  number of batches.\n",
      "On epoch:  9  having trained:  4  number of batches.\n",
      "On epoch:  9  having trained:  6  number of batches.\n",
      "Done with epoch:  9  current cost: 8.206256985664368\n"
     ]
    }
   ],
   "source": [
    "accuracy_list, cost_list = train_model(train_loader, validation_loader, model, optimizer)"
   ]
  },
  {
   "cell_type": "code",
   "execution_count": 13,
   "metadata": {},
   "outputs": [
    {
     "data": {
      "image/png": "[encoded data removed]",
      "text/plain": [
       "<Figure size 1008x576 with 1 Axes>"
      ]
     },
     "metadata": {
      "needs_background": "light"
     },
     "output_type": "display_data"
    },
    {
     "name": "stdout",
     "output_type": "stream",
     "text": [
      "Final validation accuracy of:  0.8638045891931903\n"
     ]
    }
   ],
   "source": [
    "plt.figure(figsize=(14, 8))\n",
    "plt.plot(accuracy_list)\n",
    "plt.xlabel('Number of epochs trained')\n",
    "plt.ylabel('Accuracy')\n",
    "plt.title('Validation Accuracy vs Epochs Trained')\n",
    "plt.show()\n",
    "print('Final validation accuracy of: ', accuracy_list[-1])"
   ]
  },
  {
   "cell_type": "markdown",
   "metadata": {},
   "source": [
    "<font size=\"4\">The validation accuracy over the training epochs demonstrates improvement over training. We see an accurate model prediction at least ~90% of samples depending on the particular initialization of the model parameters.</font>"
   ]
  },
  {
   "cell_type": "code",
   "execution_count": 14,
   "metadata": {},
   "outputs": [
    {
     "data": {
      "image/png": "[encoded data removed]",
      "text/plain": [
       "<Figure size 1008x576 with 1 Axes>"
      ]
     },
     "metadata": {
      "needs_background": "light"
     },
     "output_type": "display_data"
    }
   ],
   "source": [
    "plt.figure(figsize=(14, 8))\n",
    "plt.plot(cost_list)\n",
    "plt.xlabel('Number of epochs trained')\n",
    "plt.ylabel('Cost')\n",
    "plt.title('Cost in Training Set vs Epochs Trained')\n",
    "plt.show()"
   ]
  },
  {
   "cell_type": "markdown",
   "metadata": {},
   "source": [
    "<font size=\"4\">The train set cost is decreasing over training as expected. </font>"
   ]
  }
 ],
 "metadata": {
  "kernelspec": {
   "display_name": "Python 3",
   "language": "python",
   "name": "python3"
  },
  "language_info": {
   "codemirror_mode": {
    "name": "ipython",
    "version": 3
   },
   "file_extension": ".py",
   "mimetype": "text/x-python",
   "name": "python",
   "nbconvert_exporter": "python",
   "pygments_lexer": "ipython3",
   "version": "3.8.5"
  }
 },
 "nbformat": 4,
 "nbformat_minor": 4
}
